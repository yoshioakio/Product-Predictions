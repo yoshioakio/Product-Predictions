{
  "cells": [
    {
      "cell_type": "markdown",
      "metadata": {
        "id": "fKADPWcFKlj3"
      },
      "source": [
        "# **1. Import Library**"
      ]
    },
    {
      "cell_type": "markdown",
      "metadata": {
        "id": "LgA3ERnVn84N"
      },
      "source": [
        "Beberapa pustaka (library) Python yang dibutuhkan untuk analisis data dan pembangunan model machine learning ini."
      ]
    },
    {
      "cell_type": "code",
      "execution_count": 1,
      "metadata": {
        "id": "BlmvjLY9M4Yj"
      },
      "outputs": [],
      "source": [
        "import pandas as pd\n",
        "import numpy as np\n",
        "import matplotlib.pyplot as plt\n",
        "import seaborn as sns\n",
        "from sklearn.preprocessing import MinMaxScaler\n",
        "from sklearn.preprocessing import LabelEncoder\n",
        "from sklearn.model_selection import train_test_split, learning_curve\n",
        "from sklearn.linear_model import LogisticRegression\n",
        "from sklearn.svm import SVC\n",
        "from sklearn.metrics import accuracy_score, classification_report, confusion_matrix, precision_score, recall_score, f1_score\n",
        "from sklearn.metrics import ConfusionMatrixDisplay\n",
        "from sklearn.model_selection import RandomizedSearchCV"
      ]
    },
    {
      "cell_type": "code",
      "execution_count": 2,
      "metadata": {},
      "outputs": [],
      "source": [
        "# from google.colab import drive"
      ]
    },
    {
      "cell_type": "markdown",
      "metadata": {
        "id": "f3YIEnAFKrKL"
      },
      "source": [
        "# **2. Memuat Dataset dari Hasil Clustering**"
      ]
    },
    {
      "cell_type": "markdown",
      "metadata": {
        "id": "Ey3ItwTen_7E"
      },
      "source": [
        "## 1. Memuat dataset hasil clustering dari file hasil_clustering.CSV ke dalam variabel DataFrame."
      ]
    },
    {
      "cell_type": "code",
      "execution_count": 3,
      "metadata": {
        "colab": {
          "base_uri": "https://localhost:8080/"
        },
        "id": "GHCGNTyrM5fS",
        "outputId": "cd3e70ed-e036-46c4-cc24-104f681b713e"
      },
      "outputs": [],
      "source": [
        "# drive.mount('/content/drive')"
      ]
    },
    {
      "cell_type": "code",
      "execution_count": 4,
      "metadata": {},
      "outputs": [
        {
          "data": {
            "text/html": [
              "<div>\n",
              "<style scoped>\n",
              "    .dataframe tbody tr th:only-of-type {\n",
              "        vertical-align: middle;\n",
              "    }\n",
              "\n",
              "    .dataframe tbody tr th {\n",
              "        vertical-align: top;\n",
              "    }\n",
              "\n",
              "    .dataframe thead th {\n",
              "        text-align: right;\n",
              "    }\n",
              "</style>\n",
              "<table border=\"1\" class=\"dataframe\">\n",
              "  <thead>\n",
              "    <tr style=\"text-align: right;\">\n",
              "      <th></th>\n",
              "      <th>order_id</th>\n",
              "      <th>customer_id</th>\n",
              "      <th>order_status</th>\n",
              "      <th>order_item_id</th>\n",
              "      <th>product_id</th>\n",
              "      <th>price</th>\n",
              "      <th>freight_value</th>\n",
              "      <th>review_id</th>\n",
              "      <th>review_score</th>\n",
              "      <th>product_category_name_english</th>\n",
              "      <th>order_purchase_date</th>\n",
              "      <th>shipping_duration_days</th>\n",
              "      <th>delivery_accuracy_days</th>\n",
              "      <th>payment_made</th>\n",
              "      <th>product_volume_cm3</th>\n",
              "      <th>product_complexity</th>\n",
              "      <th>order_status_encoded</th>\n",
              "      <th>cluster_category</th>\n",
              "    </tr>\n",
              "  </thead>\n",
              "  <tbody>\n",
              "    <tr>\n",
              "      <th>0</th>\n",
              "      <td>53cdb2fc8bc7dce0b6741e2150273451</td>\n",
              "      <td>b0830fb4747a6c6d20dea0b8c802d7ef</td>\n",
              "      <td>delivered</td>\n",
              "      <td>1</td>\n",
              "      <td>595fac2a385ac33a80bd5114aec74eb8</td>\n",
              "      <td>118.70</td>\n",
              "      <td>22.76</td>\n",
              "      <td>8d5266042046a06655c8db133d120ba5</td>\n",
              "      <td>4.0</td>\n",
              "      <td>perfumery</td>\n",
              "      <td>2018-07</td>\n",
              "      <td>13.0</td>\n",
              "      <td>5.0</td>\n",
              "      <td>1.0</td>\n",
              "      <td>11.732500</td>\n",
              "      <td>208.0</td>\n",
              "      <td>delivered</td>\n",
              "      <td>0</td>\n",
              "    </tr>\n",
              "    <tr>\n",
              "      <th>1</th>\n",
              "      <td>47770eb9100c2d0c44946d9cf07ec65d</td>\n",
              "      <td>41ce2a54c0b03bf3443c3d931a367089</td>\n",
              "      <td>delivered</td>\n",
              "      <td>1</td>\n",
              "      <td>aa4383b373c6aca5d8797843e5594415</td>\n",
              "      <td>159.90</td>\n",
              "      <td>19.22</td>\n",
              "      <td>e73b67b67587f7644d5bd1a52deb1b01</td>\n",
              "      <td>5.0</td>\n",
              "      <td>auto</td>\n",
              "      <td>2018-08</td>\n",
              "      <td>9.0</td>\n",
              "      <td>17.0</td>\n",
              "      <td>0.0</td>\n",
              "      <td>22.800000</td>\n",
              "      <td>279.0</td>\n",
              "      <td>delivered</td>\n",
              "      <td>1</td>\n",
              "    </tr>\n",
              "    <tr>\n",
              "      <th>2</th>\n",
              "      <td>949d5b44dbf5de918fe9c16f97b45f8a</td>\n",
              "      <td>f88197465ea7920adcdbec7375364d82</td>\n",
              "      <td>delivered</td>\n",
              "      <td>1</td>\n",
              "      <td>d0b61bfb1de832b15ba9d266ca96e5b0</td>\n",
              "      <td>45.00</td>\n",
              "      <td>27.20</td>\n",
              "      <td>359d03e676b3c069f62cadba8dd3f6e8</td>\n",
              "      <td>5.0</td>\n",
              "      <td>pet_shop</td>\n",
              "      <td>2017-11</td>\n",
              "      <td>13.0</td>\n",
              "      <td>12.0</td>\n",
              "      <td>1.0</td>\n",
              "      <td>13.333333</td>\n",
              "      <td>530.0</td>\n",
              "      <td>delivered</td>\n",
              "      <td>0</td>\n",
              "    </tr>\n",
              "    <tr>\n",
              "      <th>3</th>\n",
              "      <td>6514b8ad8028c9f2cc2374ded245783f</td>\n",
              "      <td>9bdf08b4b3b52b5526ff42d37d47f222</td>\n",
              "      <td>delivered</td>\n",
              "      <td>1</td>\n",
              "      <td>4520766ec412348b8d4caa5e8a18c464</td>\n",
              "      <td>59.99</td>\n",
              "      <td>15.17</td>\n",
              "      <td>07d67dd06ed5f88bef11ef6b464e79ae</td>\n",
              "      <td>5.0</td>\n",
              "      <td>auto</td>\n",
              "      <td>2017-05</td>\n",
              "      <td>9.0</td>\n",
              "      <td>11.0</td>\n",
              "      <td>0.0</td>\n",
              "      <td>30.095238</td>\n",
              "      <td>1016.0</td>\n",
              "      <td>delivered</td>\n",
              "      <td>1</td>\n",
              "    </tr>\n",
              "    <tr>\n",
              "      <th>4</th>\n",
              "      <td>76c6e866289321a7c93b82b54852dc33</td>\n",
              "      <td>f54a9f0e6b351c431402b8461ea51999</td>\n",
              "      <td>delivered</td>\n",
              "      <td>1</td>\n",
              "      <td>ac1789e492dcd698c5c10b97a671243a</td>\n",
              "      <td>19.90</td>\n",
              "      <td>16.05</td>\n",
              "      <td>fc4af8aea8ec3f1a3cd181d3d0cadbd5</td>\n",
              "      <td>2.5</td>\n",
              "      <td>furniture_decor</td>\n",
              "      <td>2017-01</td>\n",
              "      <td>9.0</td>\n",
              "      <td>31.0</td>\n",
              "      <td>1.0</td>\n",
              "      <td>30.095238</td>\n",
              "      <td>475.0</td>\n",
              "      <td>delivered</td>\n",
              "      <td>0</td>\n",
              "    </tr>\n",
              "  </tbody>\n",
              "</table>\n",
              "</div>"
            ],
            "text/plain": [
              "                           order_id                       customer_id  \\\n",
              "0  53cdb2fc8bc7dce0b6741e2150273451  b0830fb4747a6c6d20dea0b8c802d7ef   \n",
              "1  47770eb9100c2d0c44946d9cf07ec65d  41ce2a54c0b03bf3443c3d931a367089   \n",
              "2  949d5b44dbf5de918fe9c16f97b45f8a  f88197465ea7920adcdbec7375364d82   \n",
              "3  6514b8ad8028c9f2cc2374ded245783f  9bdf08b4b3b52b5526ff42d37d47f222   \n",
              "4  76c6e866289321a7c93b82b54852dc33  f54a9f0e6b351c431402b8461ea51999   \n",
              "\n",
              "  order_status  order_item_id                        product_id   price  \\\n",
              "0    delivered              1  595fac2a385ac33a80bd5114aec74eb8  118.70   \n",
              "1    delivered              1  aa4383b373c6aca5d8797843e5594415  159.90   \n",
              "2    delivered              1  d0b61bfb1de832b15ba9d266ca96e5b0   45.00   \n",
              "3    delivered              1  4520766ec412348b8d4caa5e8a18c464   59.99   \n",
              "4    delivered              1  ac1789e492dcd698c5c10b97a671243a   19.90   \n",
              "\n",
              "   freight_value                         review_id  review_score  \\\n",
              "0          22.76  8d5266042046a06655c8db133d120ba5           4.0   \n",
              "1          19.22  e73b67b67587f7644d5bd1a52deb1b01           5.0   \n",
              "2          27.20  359d03e676b3c069f62cadba8dd3f6e8           5.0   \n",
              "3          15.17  07d67dd06ed5f88bef11ef6b464e79ae           5.0   \n",
              "4          16.05  fc4af8aea8ec3f1a3cd181d3d0cadbd5           2.5   \n",
              "\n",
              "  product_category_name_english order_purchase_date  shipping_duration_days  \\\n",
              "0                     perfumery             2018-07                    13.0   \n",
              "1                          auto             2018-08                     9.0   \n",
              "2                      pet_shop             2017-11                    13.0   \n",
              "3                          auto             2017-05                     9.0   \n",
              "4               furniture_decor             2017-01                     9.0   \n",
              "\n",
              "   delivery_accuracy_days  payment_made  product_volume_cm3  \\\n",
              "0                     5.0           1.0           11.732500   \n",
              "1                    17.0           0.0           22.800000   \n",
              "2                    12.0           1.0           13.333333   \n",
              "3                    11.0           0.0           30.095238   \n",
              "4                    31.0           1.0           30.095238   \n",
              "\n",
              "   product_complexity order_status_encoded  cluster_category  \n",
              "0               208.0            delivered                 0  \n",
              "1               279.0            delivered                 1  \n",
              "2               530.0            delivered                 0  \n",
              "3              1016.0            delivered                 1  \n",
              "4               475.0            delivered                 0  "
            ]
          },
          "execution_count": 4,
          "metadata": {},
          "output_type": "execute_result"
        }
      ],
      "source": [
        "product_df = pd.read_csv(\"dataset/hasil_clustering.csv\")\n",
        "product_df.head()"
      ]
    },
    {
      "cell_type": "code",
      "execution_count": 5,
      "metadata": {
        "colab": {
          "base_uri": "https://localhost:8080/",
          "height": 226
        },
        "id": "xZs82J49wY12",
        "outputId": "ea1d9b4d-fb64-4f41-b1c6-fa99f270993c"
      },
      "outputs": [],
      "source": [
        "# product_df = pd.read_csv(\"/content/drive/MyDrive/dataset/Dicoding/hasil_clustering.csv\")\n",
        "# product_df.head()"
      ]
    },
    {
      "cell_type": "markdown",
      "metadata": {
        "id": "Nu6s9fTsKpna"
      },
      "source": [
        "## 2. Mengecek tipe data"
      ]
    },
    {
      "cell_type": "code",
      "execution_count": 6,
      "metadata": {
        "colab": {
          "base_uri": "https://localhost:8080/"
        },
        "id": "W7xTXEBQ-bGO",
        "outputId": "1e321880-73eb-4af6-eb9d-6b20d1c187aa"
      },
      "outputs": [
        {
          "name": "stdout",
          "output_type": "stream",
          "text": [
            "<class 'pandas.core.frame.DataFrame'>\n",
            "RangeIndex: 58765 entries, 0 to 58764\n",
            "Data columns (total 18 columns):\n",
            " #   Column                         Non-Null Count  Dtype  \n",
            "---  ------                         --------------  -----  \n",
            " 0   order_id                       58765 non-null  object \n",
            " 1   customer_id                    58765 non-null  object \n",
            " 2   order_status                   58765 non-null  object \n",
            " 3   order_item_id                  58765 non-null  int64  \n",
            " 4   product_id                     58765 non-null  object \n",
            " 5   price                          58765 non-null  float64\n",
            " 6   freight_value                  58765 non-null  float64\n",
            " 7   review_id                      58765 non-null  object \n",
            " 8   review_score                   58765 non-null  float64\n",
            " 9   product_category_name_english  58765 non-null  object \n",
            " 10  order_purchase_date            58765 non-null  object \n",
            " 11  shipping_duration_days         58765 non-null  float64\n",
            " 12  delivery_accuracy_days         58765 non-null  float64\n",
            " 13  payment_made                   58765 non-null  float64\n",
            " 14  product_volume_cm3             58765 non-null  float64\n",
            " 15  product_complexity             58765 non-null  float64\n",
            " 16  order_status_encoded           58765 non-null  object \n",
            " 17  cluster_category               58765 non-null  int64  \n",
            "dtypes: float64(8), int64(2), object(8)\n",
            "memory usage: 8.1+ MB\n"
          ]
        }
      ],
      "source": [
        "product_df.info()"
      ]
    },
    {
      "cell_type": "markdown",
      "metadata": {
        "id": "OcR0ml0kKvJ9"
      },
      "source": [
        "## 3. Mengecek Distribusi Data"
      ]
    },
    {
      "cell_type": "code",
      "execution_count": 7,
      "metadata": {
        "colab": {
          "base_uri": "https://localhost:8080/"
        },
        "id": "8f7Dc086-f6z",
        "outputId": "f53ba8b2-349f-4bdf-8b21-7e684ec5a5a1"
      },
      "outputs": [
        {
          "name": "stdout",
          "output_type": "stream",
          "text": [
            "Dataset memiliki 58765 baris dan 18 kolom.\n",
            "\n"
          ]
        }
      ],
      "source": [
        "print(f\"Dataset memiliki {product_df.shape[0]} baris dan {product_df.shape[1]} kolom.\\n\")"
      ]
    },
    {
      "cell_type": "code",
      "execution_count": 8,
      "metadata": {
        "colab": {
          "base_uri": "https://localhost:8080/",
          "height": 410
        },
        "id": "ApofPjh_-jhs",
        "outputId": "e5e3da8a-3dcc-4450-cd3c-71e2d3b7bc5e"
      },
      "outputs": [
        {
          "data": {
            "image/png": "[encoded data removed]",
            "text/plain": [
              "<Figure size 600x400 with 1 Axes>"
            ]
          },
          "metadata": {},
          "output_type": "display_data"
        }
      ],
      "source": [
        "plt.figure(figsize=(6, 4))\n",
        "sns.countplot(data=product_df, x='cluster_category', palette='Set2', hue='cluster_category', dodge=False, legend=False)\n",
        "plt.title('Distribusi Hasil Clustering)')\n",
        "plt.xlabel('Cluster')\n",
        "plt.ylabel('Jumlah')\n",
        "plt.show()"
      ]
    },
    {
      "cell_type": "markdown",
      "metadata": {
        "id": "0lpTiz7LLZLQ"
      },
      "source": [
        "# 3. **Merapihkan Data**  "
      ]
    },
    {
      "cell_type": "markdown",
      "metadata": {
        "id": "Rh6snTH6LeOc"
      },
      "source": [
        "Karena sebelumnya pakai dataset (hasil_clustering.csv) yang sudah di invers pada tahap akhirnya, jadi akan dilakukan beberapa tahap teknik Preprocessing data kembali"
      ]
    },
    {
      "cell_type": "markdown",
      "metadata": {
        "id": "gbqPD7BIL9_X"
      },
      "source": [
        "## 1. Mengecek Missing Value Kembali"
      ]
    },
    {
      "cell_type": "code",
      "execution_count": 9,
      "metadata": {
        "colab": {
          "base_uri": "https://localhost:8080/",
          "height": 649
        },
        "id": "_523ylZIMG9C",
        "outputId": "f11d8a64-91b2-485b-8eeb-f934ede17bde"
      },
      "outputs": [
        {
          "data": {
            "text/plain": [
              "order_id                         0\n",
              "customer_id                      0\n",
              "order_status                     0\n",
              "order_item_id                    0\n",
              "product_id                       0\n",
              "price                            0\n",
              "freight_value                    0\n",
              "review_id                        0\n",
              "review_score                     0\n",
              "product_category_name_english    0\n",
              "order_purchase_date              0\n",
              "shipping_duration_days           0\n",
              "delivery_accuracy_days           0\n",
              "payment_made                     0\n",
              "product_volume_cm3               0\n",
              "product_complexity               0\n",
              "order_status_encoded             0\n",
              "cluster_category                 0\n",
              "dtype: int64"
            ]
          },
          "execution_count": 9,
          "metadata": {},
          "output_type": "execute_result"
        }
      ],
      "source": [
        "product_df.isnull().sum()"
      ]
    },
    {
      "cell_type": "markdown",
      "metadata": {
        "id": "yhhBel2pMWSQ"
      },
      "source": [
        "aman, tidak ada missing value, jadi data tidak berubah ya ✅"
      ]
    },
    {
      "cell_type": "markdown",
      "metadata": {
        "id": "rKciu-ViMdUd"
      },
      "source": [
        "## 2. Mengecek Duplikasi Data Kembali"
      ]
    },
    {
      "cell_type": "code",
      "execution_count": 10,
      "metadata": {
        "colab": {
          "base_uri": "https://localhost:8080/"
        },
        "id": "7LUhJPITMd1j",
        "outputId": "86a09912-b817-4a68-d5a5-b2e28cb96013"
      },
      "outputs": [
        {
          "name": "stdout",
          "output_type": "stream",
          "text": [
            "Jumlah duplikasi:  0\n"
          ]
        }
      ],
      "source": [
        "print(\"Jumlah duplikasi: \", product_df.duplicated().sum())"
      ]
    },
    {
      "cell_type": "markdown",
      "metadata": {
        "id": "CiG-4r1lMqS3"
      },
      "source": [
        "aman, tidak ada duplikasi data, jadi data tidak berubah ya ✅"
      ]
    },
    {
      "cell_type": "markdown",
      "metadata": {
        "id": "g1YukqfqMuZ5"
      },
      "source": [
        "## 3. Melakukan Normalisasi atau Standarisasi Fitur Kembali"
      ]
    },
    {
      "cell_type": "code",
      "execution_count": 11,
      "metadata": {
        "id": "BvnHfV8TMvD0"
      },
      "outputs": [],
      "source": [
        "num_features = ['price', 'freight_value', 'review_score', 'shipping_duration_days', 'product_complexity', 'delivery_accuracy_days', 'payment_made', 'product_volume_cm3']\n",
        "\n",
        "scaler = MinMaxScaler()\n",
        "product_df[num_features] = scaler.fit_transform(product_df[num_features])"
      ]
    },
    {
      "cell_type": "code",
      "execution_count": 12,
      "metadata": {
        "colab": {
          "base_uri": "https://localhost:8080/",
          "height": 226
        },
        "id": "vcOV4Qi1OoyA",
        "outputId": "44dfa482-2386-45c0-823d-81da078b238a"
      },
      "outputs": [
        {
          "data": {
            "text/html": [
              "<div>\n",
              "<style scoped>\n",
              "    .dataframe tbody tr th:only-of-type {\n",
              "        vertical-align: middle;\n",
              "    }\n",
              "\n",
              "    .dataframe tbody tr th {\n",
              "        vertical-align: top;\n",
              "    }\n",
              "\n",
              "    .dataframe thead th {\n",
              "        text-align: right;\n",
              "    }\n",
              "</style>\n",
              "<table border=\"1\" class=\"dataframe\">\n",
              "  <thead>\n",
              "    <tr style=\"text-align: right;\">\n",
              "      <th></th>\n",
              "      <th>order_id</th>\n",
              "      <th>customer_id</th>\n",
              "      <th>order_status</th>\n",
              "      <th>order_item_id</th>\n",
              "      <th>product_id</th>\n",
              "      <th>price</th>\n",
              "      <th>freight_value</th>\n",
              "      <th>review_id</th>\n",
              "      <th>review_score</th>\n",
              "      <th>product_category_name_english</th>\n",
              "      <th>order_purchase_date</th>\n",
              "      <th>shipping_duration_days</th>\n",
              "      <th>delivery_accuracy_days</th>\n",
              "      <th>payment_made</th>\n",
              "      <th>product_volume_cm3</th>\n",
              "      <th>product_complexity</th>\n",
              "      <th>order_status_encoded</th>\n",
              "      <th>cluster_category</th>\n",
              "    </tr>\n",
              "  </thead>\n",
              "  <tbody>\n",
              "    <tr>\n",
              "      <th>0</th>\n",
              "      <td>53cdb2fc8bc7dce0b6741e2150273451</td>\n",
              "      <td>b0830fb4747a6c6d20dea0b8c802d7ef</td>\n",
              "      <td>delivered</td>\n",
              "      <td>1</td>\n",
              "      <td>595fac2a385ac33a80bd5114aec74eb8</td>\n",
              "      <td>0.477222</td>\n",
              "      <td>0.681463</td>\n",
              "      <td>8d5266042046a06655c8db133d120ba5</td>\n",
              "      <td>0.6</td>\n",
              "      <td>perfumery</td>\n",
              "      <td>2018-07</td>\n",
              "      <td>0.440678</td>\n",
              "      <td>0.325</td>\n",
              "      <td>1.0</td>\n",
              "      <td>0.389404</td>\n",
              "      <td>0.089435</td>\n",
              "      <td>delivered</td>\n",
              "      <td>0</td>\n",
              "    </tr>\n",
              "    <tr>\n",
              "      <th>1</th>\n",
              "      <td>47770eb9100c2d0c44946d9cf07ec65d</td>\n",
              "      <td>41ce2a54c0b03bf3443c3d931a367089</td>\n",
              "      <td>delivered</td>\n",
              "      <td>1</td>\n",
              "      <td>aa4383b373c6aca5d8797843e5594415</td>\n",
              "      <td>0.644058</td>\n",
              "      <td>0.561054</td>\n",
              "      <td>e73b67b67587f7644d5bd1a52deb1b01</td>\n",
              "      <td>1.0</td>\n",
              "      <td>auto</td>\n",
              "      <td>2018-08</td>\n",
              "      <td>0.305085</td>\n",
              "      <td>0.625</td>\n",
              "      <td>0.0</td>\n",
              "      <td>0.757419</td>\n",
              "      <td>0.126569</td>\n",
              "      <td>delivered</td>\n",
              "      <td>1</td>\n",
              "    </tr>\n",
              "    <tr>\n",
              "      <th>2</th>\n",
              "      <td>949d5b44dbf5de918fe9c16f97b45f8a</td>\n",
              "      <td>f88197465ea7920adcdbec7375364d82</td>\n",
              "      <td>delivered</td>\n",
              "      <td>1</td>\n",
              "      <td>d0b61bfb1de832b15ba9d266ca96e5b0</td>\n",
              "      <td>0.178781</td>\n",
              "      <td>0.832483</td>\n",
              "      <td>359d03e676b3c069f62cadba8dd3f6e8</td>\n",
              "      <td>1.0</td>\n",
              "      <td>pet_shop</td>\n",
              "      <td>2017-11</td>\n",
              "      <td>0.440678</td>\n",
              "      <td>0.500</td>\n",
              "      <td>1.0</td>\n",
              "      <td>0.442634</td>\n",
              "      <td>0.257845</td>\n",
              "      <td>delivered</td>\n",
              "      <td>0</td>\n",
              "    </tr>\n",
              "    <tr>\n",
              "      <th>3</th>\n",
              "      <td>6514b8ad8028c9f2cc2374ded245783f</td>\n",
              "      <td>9bdf08b4b3b52b5526ff42d37d47f222</td>\n",
              "      <td>delivered</td>\n",
              "      <td>1</td>\n",
              "      <td>4520766ec412348b8d4caa5e8a18c464</td>\n",
              "      <td>0.239482</td>\n",
              "      <td>0.423299</td>\n",
              "      <td>07d67dd06ed5f88bef11ef6b464e79ae</td>\n",
              "      <td>1.0</td>\n",
              "      <td>auto</td>\n",
              "      <td>2017-05</td>\n",
              "      <td>0.305085</td>\n",
              "      <td>0.475</td>\n",
              "      <td>0.0</td>\n",
              "      <td>1.000000</td>\n",
              "      <td>0.512029</td>\n",
              "      <td>delivered</td>\n",
              "      <td>1</td>\n",
              "    </tr>\n",
              "    <tr>\n",
              "      <th>4</th>\n",
              "      <td>76c6e866289321a7c93b82b54852dc33</td>\n",
              "      <td>f54a9f0e6b351c431402b8461ea51999</td>\n",
              "      <td>delivered</td>\n",
              "      <td>1</td>\n",
              "      <td>ac1789e492dcd698c5c10b97a671243a</td>\n",
              "      <td>0.077141</td>\n",
              "      <td>0.453231</td>\n",
              "      <td>fc4af8aea8ec3f1a3cd181d3d0cadbd5</td>\n",
              "      <td>0.0</td>\n",
              "      <td>furniture_decor</td>\n",
              "      <td>2017-01</td>\n",
              "      <td>0.305085</td>\n",
              "      <td>0.975</td>\n",
              "      <td>1.0</td>\n",
              "      <td>1.000000</td>\n",
              "      <td>0.229079</td>\n",
              "      <td>delivered</td>\n",
              "      <td>0</td>\n",
              "    </tr>\n",
              "  </tbody>\n",
              "</table>\n",
              "</div>"
            ],
            "text/plain": [
              "                           order_id                       customer_id  \\\n",
              "0  53cdb2fc8bc7dce0b6741e2150273451  b0830fb4747a6c6d20dea0b8c802d7ef   \n",
              "1  47770eb9100c2d0c44946d9cf07ec65d  41ce2a54c0b03bf3443c3d931a367089   \n",
              "2  949d5b44dbf5de918fe9c16f97b45f8a  f88197465ea7920adcdbec7375364d82   \n",
              "3  6514b8ad8028c9f2cc2374ded245783f  9bdf08b4b3b52b5526ff42d37d47f222   \n",
              "4  76c6e866289321a7c93b82b54852dc33  f54a9f0e6b351c431402b8461ea51999   \n",
              "\n",
              "  order_status  order_item_id                        product_id     price  \\\n",
              "0    delivered              1  595fac2a385ac33a80bd5114aec74eb8  0.477222   \n",
              "1    delivered              1  aa4383b373c6aca5d8797843e5594415  0.644058   \n",
              "2    delivered              1  d0b61bfb1de832b15ba9d266ca96e5b0  0.178781   \n",
              "3    delivered              1  4520766ec412348b8d4caa5e8a18c464  0.239482   \n",
              "4    delivered              1  ac1789e492dcd698c5c10b97a671243a  0.077141   \n",
              "\n",
              "   freight_value                         review_id  review_score  \\\n",
              "0       0.681463  8d5266042046a06655c8db133d120ba5           0.6   \n",
              "1       0.561054  e73b67b67587f7644d5bd1a52deb1b01           1.0   \n",
              "2       0.832483  359d03e676b3c069f62cadba8dd3f6e8           1.0   \n",
              "3       0.423299  07d67dd06ed5f88bef11ef6b464e79ae           1.0   \n",
              "4       0.453231  fc4af8aea8ec3f1a3cd181d3d0cadbd5           0.0   \n",
              "\n",
              "  product_category_name_english order_purchase_date  shipping_duration_days  \\\n",
              "0                     perfumery             2018-07                0.440678   \n",
              "1                          auto             2018-08                0.305085   \n",
              "2                      pet_shop             2017-11                0.440678   \n",
              "3                          auto             2017-05                0.305085   \n",
              "4               furniture_decor             2017-01                0.305085   \n",
              "\n",
              "   delivery_accuracy_days  payment_made  product_volume_cm3  \\\n",
              "0                   0.325           1.0            0.389404   \n",
              "1                   0.625           0.0            0.757419   \n",
              "2                   0.500           1.0            0.442634   \n",
              "3                   0.475           0.0            1.000000   \n",
              "4                   0.975           1.0            1.000000   \n",
              "\n",
              "   product_complexity order_status_encoded  cluster_category  \n",
              "0            0.089435            delivered                 0  \n",
              "1            0.126569            delivered                 1  \n",
              "2            0.257845            delivered                 0  \n",
              "3            0.512029            delivered                 1  \n",
              "4            0.229079            delivered                 0  "
            ]
          },
          "execution_count": 12,
          "metadata": {},
          "output_type": "execute_result"
        }
      ],
      "source": [
        "product_df.head()"
      ]
    },
    {
      "cell_type": "markdown",
      "metadata": {
        "id": "h4uBUWmmOjxc"
      },
      "source": [
        "## 4. Melakukan Deteksi dan Penanganan Outlier Kembali"
      ]
    },
    {
      "cell_type": "code",
      "execution_count": 13,
      "metadata": {
        "id": "SkaK4CZeOwJE"
      },
      "outputs": [],
      "source": [
        "def handle_outliers(df, columns):\n",
        "    for column in columns:\n",
        "        Q1 = df[column].quantile(0.25)\n",
        "        Q3 = df[column].quantile(0.75)\n",
        "        IQR = Q3 - Q1\n",
        "        lower_bound = Q1 - 1.5 * IQR\n",
        "        upper_bound = Q3 + 1.5 * IQR\n",
        "\n",
        "        df[column] = df[column].clip(lower=lower_bound, upper=upper_bound)\n",
        "\n",
        "    return df"
      ]
    },
    {
      "cell_type": "code",
      "execution_count": 14,
      "metadata": {
        "colab": {
          "base_uri": "https://localhost:8080/",
          "height": 206
        },
        "id": "jnp8UuA1O4AK",
        "outputId": "b421d7d5-d3b6-4946-8a45-3a9ea1cbdc96"
      },
      "outputs": [
        {
          "data": {
            "text/html": [
              "<div>\n",
              "<style scoped>\n",
              "    .dataframe tbody tr th:only-of-type {\n",
              "        vertical-align: middle;\n",
              "    }\n",
              "\n",
              "    .dataframe tbody tr th {\n",
              "        vertical-align: top;\n",
              "    }\n",
              "\n",
              "    .dataframe thead th {\n",
              "        text-align: right;\n",
              "    }\n",
              "</style>\n",
              "<table border=\"1\" class=\"dataframe\">\n",
              "  <thead>\n",
              "    <tr style=\"text-align: right;\">\n",
              "      <th></th>\n",
              "      <th>price</th>\n",
              "      <th>freight_value</th>\n",
              "      <th>review_score</th>\n",
              "      <th>shipping_duration_days</th>\n",
              "      <th>product_complexity</th>\n",
              "      <th>delivery_accuracy_days</th>\n",
              "      <th>payment_made</th>\n",
              "      <th>product_volume_cm3</th>\n",
              "    </tr>\n",
              "  </thead>\n",
              "  <tbody>\n",
              "    <tr>\n",
              "      <th>0</th>\n",
              "      <td>0.477222</td>\n",
              "      <td>0.681463</td>\n",
              "      <td>6.000000e-01</td>\n",
              "      <td>0.440678</td>\n",
              "      <td>0.089435</td>\n",
              "      <td>0.325</td>\n",
              "      <td>1.0</td>\n",
              "      <td>0.389404</td>\n",
              "    </tr>\n",
              "    <tr>\n",
              "      <th>1</th>\n",
              "      <td>0.644058</td>\n",
              "      <td>0.561054</td>\n",
              "      <td>1.000000e+00</td>\n",
              "      <td>0.305085</td>\n",
              "      <td>0.126569</td>\n",
              "      <td>0.625</td>\n",
              "      <td>0.0</td>\n",
              "      <td>0.757419</td>\n",
              "    </tr>\n",
              "    <tr>\n",
              "      <th>2</th>\n",
              "      <td>0.178781</td>\n",
              "      <td>0.832483</td>\n",
              "      <td>1.000000e+00</td>\n",
              "      <td>0.440678</td>\n",
              "      <td>0.257845</td>\n",
              "      <td>0.500</td>\n",
              "      <td>1.0</td>\n",
              "      <td>0.442634</td>\n",
              "    </tr>\n",
              "    <tr>\n",
              "      <th>3</th>\n",
              "      <td>0.239482</td>\n",
              "      <td>0.423299</td>\n",
              "      <td>1.000000e+00</td>\n",
              "      <td>0.305085</td>\n",
              "      <td>0.512029</td>\n",
              "      <td>0.475</td>\n",
              "      <td>0.0</td>\n",
              "      <td>1.000000</td>\n",
              "    </tr>\n",
              "    <tr>\n",
              "      <th>4</th>\n",
              "      <td>0.077141</td>\n",
              "      <td>0.453231</td>\n",
              "      <td>2.220446e-16</td>\n",
              "      <td>0.305085</td>\n",
              "      <td>0.229079</td>\n",
              "      <td>0.975</td>\n",
              "      <td>1.0</td>\n",
              "      <td>1.000000</td>\n",
              "    </tr>\n",
              "  </tbody>\n",
              "</table>\n",
              "</div>"
            ],
            "text/plain": [
              "      price  freight_value  review_score  shipping_duration_days  \\\n",
              "0  0.477222       0.681463  6.000000e-01                0.440678   \n",
              "1  0.644058       0.561054  1.000000e+00                0.305085   \n",
              "2  0.178781       0.832483  1.000000e+00                0.440678   \n",
              "3  0.239482       0.423299  1.000000e+00                0.305085   \n",
              "4  0.077141       0.453231  2.220446e-16                0.305085   \n",
              "\n",
              "   product_complexity  delivery_accuracy_days  payment_made  \\\n",
              "0            0.089435                   0.325           1.0   \n",
              "1            0.126569                   0.625           0.0   \n",
              "2            0.257845                   0.500           1.0   \n",
              "3            0.512029                   0.475           0.0   \n",
              "4            0.229079                   0.975           1.0   \n",
              "\n",
              "   product_volume_cm3  \n",
              "0            0.389404  \n",
              "1            0.757419  \n",
              "2            0.442634  \n",
              "3            1.000000  \n",
              "4            1.000000  "
            ]
          },
          "execution_count": 14,
          "metadata": {},
          "output_type": "execute_result"
        }
      ],
      "source": [
        "product_df = handle_outliers(product_df, num_features)\n",
        "product_df[num_features].head()"
      ]
    },
    {
      "cell_type": "markdown",
      "metadata": {
        "id": "J9c7tVipPD3Q"
      },
      "source": [
        "## 5. Mengecek Binning Data Kembali"
      ]
    },
    {
      "cell_type": "code",
      "execution_count": 15,
      "metadata": {
        "colab": {
          "base_uri": "https://localhost:8080/"
        },
        "id": "0Ink4GC5PJFU",
        "outputId": "dab89d85-dcd3-4373-886b-91c249f5223d"
      },
      "outputs": [
        {
          "name": "stdout",
          "output_type": "stream",
          "text": [
            "['delivered' 'shipped' 'canceled' 'process']\n"
          ]
        }
      ],
      "source": [
        "print(product_df['order_status_encoded'].unique())"
      ]
    },
    {
      "cell_type": "markdown",
      "metadata": {
        "id": "zdPjCkmRbjXE"
      },
      "source": [
        "## 6. Melakukan Label Encoder Kembali"
      ]
    },
    {
      "cell_type": "code",
      "execution_count": 16,
      "metadata": {
        "id": "nxyNaSXwPVpe"
      },
      "outputs": [],
      "source": [
        "label_encoder = LabelEncoder()\n",
        "product_df['order_status_encoded'] = label_encoder.fit_transform(product_df['order_status_encoded'])"
      ]
    },
    {
      "cell_type": "code",
      "execution_count": 17,
      "metadata": {
        "colab": {
          "base_uri": "https://localhost:8080/"
        },
        "id": "b93UtePJfSuC",
        "outputId": "5e107338-c72a-45f9-ee76-4759fc0fc758"
      },
      "outputs": [
        {
          "name": "stdout",
          "output_type": "stream",
          "text": [
            "[1 3 0 2]\n"
          ]
        }
      ],
      "source": [
        "print(product_df['order_status_encoded'].unique())"
      ]
    },
    {
      "cell_type": "code",
      "execution_count": 18,
      "metadata": {
        "colab": {
          "base_uri": "https://localhost:8080/",
          "height": 226
        },
        "id": "iLcepWoJpsMg",
        "outputId": "97b5ddf8-7214-4ae4-9023-c759f848f86c"
      },
      "outputs": [
        {
          "data": {
            "text/html": [
              "<div>\n",
              "<style scoped>\n",
              "    .dataframe tbody tr th:only-of-type {\n",
              "        vertical-align: middle;\n",
              "    }\n",
              "\n",
              "    .dataframe tbody tr th {\n",
              "        vertical-align: top;\n",
              "    }\n",
              "\n",
              "    .dataframe thead th {\n",
              "        text-align: right;\n",
              "    }\n",
              "</style>\n",
              "<table border=\"1\" class=\"dataframe\">\n",
              "  <thead>\n",
              "    <tr style=\"text-align: right;\">\n",
              "      <th></th>\n",
              "      <th>order_id</th>\n",
              "      <th>customer_id</th>\n",
              "      <th>order_status</th>\n",
              "      <th>order_item_id</th>\n",
              "      <th>product_id</th>\n",
              "      <th>price</th>\n",
              "      <th>freight_value</th>\n",
              "      <th>review_id</th>\n",
              "      <th>review_score</th>\n",
              "      <th>product_category_name_english</th>\n",
              "      <th>order_purchase_date</th>\n",
              "      <th>shipping_duration_days</th>\n",
              "      <th>delivery_accuracy_days</th>\n",
              "      <th>payment_made</th>\n",
              "      <th>product_volume_cm3</th>\n",
              "      <th>product_complexity</th>\n",
              "      <th>order_status_encoded</th>\n",
              "      <th>cluster_category</th>\n",
              "    </tr>\n",
              "  </thead>\n",
              "  <tbody>\n",
              "    <tr>\n",
              "      <th>0</th>\n",
              "      <td>53cdb2fc8bc7dce0b6741e2150273451</td>\n",
              "      <td>b0830fb4747a6c6d20dea0b8c802d7ef</td>\n",
              "      <td>delivered</td>\n",
              "      <td>1</td>\n",
              "      <td>595fac2a385ac33a80bd5114aec74eb8</td>\n",
              "      <td>0.477222</td>\n",
              "      <td>0.681463</td>\n",
              "      <td>8d5266042046a06655c8db133d120ba5</td>\n",
              "      <td>6.000000e-01</td>\n",
              "      <td>perfumery</td>\n",
              "      <td>2018-07</td>\n",
              "      <td>0.440678</td>\n",
              "      <td>0.325</td>\n",
              "      <td>1.0</td>\n",
              "      <td>0.389404</td>\n",
              "      <td>0.089435</td>\n",
              "      <td>1</td>\n",
              "      <td>0</td>\n",
              "    </tr>\n",
              "    <tr>\n",
              "      <th>1</th>\n",
              "      <td>47770eb9100c2d0c44946d9cf07ec65d</td>\n",
              "      <td>41ce2a54c0b03bf3443c3d931a367089</td>\n",
              "      <td>delivered</td>\n",
              "      <td>1</td>\n",
              "      <td>aa4383b373c6aca5d8797843e5594415</td>\n",
              "      <td>0.644058</td>\n",
              "      <td>0.561054</td>\n",
              "      <td>e73b67b67587f7644d5bd1a52deb1b01</td>\n",
              "      <td>1.000000e+00</td>\n",
              "      <td>auto</td>\n",
              "      <td>2018-08</td>\n",
              "      <td>0.305085</td>\n",
              "      <td>0.625</td>\n",
              "      <td>0.0</td>\n",
              "      <td>0.757419</td>\n",
              "      <td>0.126569</td>\n",
              "      <td>1</td>\n",
              "      <td>1</td>\n",
              "    </tr>\n",
              "    <tr>\n",
              "      <th>2</th>\n",
              "      <td>949d5b44dbf5de918fe9c16f97b45f8a</td>\n",
              "      <td>f88197465ea7920adcdbec7375364d82</td>\n",
              "      <td>delivered</td>\n",
              "      <td>1</td>\n",
              "      <td>d0b61bfb1de832b15ba9d266ca96e5b0</td>\n",
              "      <td>0.178781</td>\n",
              "      <td>0.832483</td>\n",
              "      <td>359d03e676b3c069f62cadba8dd3f6e8</td>\n",
              "      <td>1.000000e+00</td>\n",
              "      <td>pet_shop</td>\n",
              "      <td>2017-11</td>\n",
              "      <td>0.440678</td>\n",
              "      <td>0.500</td>\n",
              "      <td>1.0</td>\n",
              "      <td>0.442634</td>\n",
              "      <td>0.257845</td>\n",
              "      <td>1</td>\n",
              "      <td>0</td>\n",
              "    </tr>\n",
              "    <tr>\n",
              "      <th>3</th>\n",
              "      <td>6514b8ad8028c9f2cc2374ded245783f</td>\n",
              "      <td>9bdf08b4b3b52b5526ff42d37d47f222</td>\n",
              "      <td>delivered</td>\n",
              "      <td>1</td>\n",
              "      <td>4520766ec412348b8d4caa5e8a18c464</td>\n",
              "      <td>0.239482</td>\n",
              "      <td>0.423299</td>\n",
              "      <td>07d67dd06ed5f88bef11ef6b464e79ae</td>\n",
              "      <td>1.000000e+00</td>\n",
              "      <td>auto</td>\n",
              "      <td>2017-05</td>\n",
              "      <td>0.305085</td>\n",
              "      <td>0.475</td>\n",
              "      <td>0.0</td>\n",
              "      <td>1.000000</td>\n",
              "      <td>0.512029</td>\n",
              "      <td>1</td>\n",
              "      <td>1</td>\n",
              "    </tr>\n",
              "    <tr>\n",
              "      <th>4</th>\n",
              "      <td>76c6e866289321a7c93b82b54852dc33</td>\n",
              "      <td>f54a9f0e6b351c431402b8461ea51999</td>\n",
              "      <td>delivered</td>\n",
              "      <td>1</td>\n",
              "      <td>ac1789e492dcd698c5c10b97a671243a</td>\n",
              "      <td>0.077141</td>\n",
              "      <td>0.453231</td>\n",
              "      <td>fc4af8aea8ec3f1a3cd181d3d0cadbd5</td>\n",
              "      <td>2.220446e-16</td>\n",
              "      <td>furniture_decor</td>\n",
              "      <td>2017-01</td>\n",
              "      <td>0.305085</td>\n",
              "      <td>0.975</td>\n",
              "      <td>1.0</td>\n",
              "      <td>1.000000</td>\n",
              "      <td>0.229079</td>\n",
              "      <td>1</td>\n",
              "      <td>0</td>\n",
              "    </tr>\n",
              "  </tbody>\n",
              "</table>\n",
              "</div>"
            ],
            "text/plain": [
              "                           order_id                       customer_id  \\\n",
              "0  53cdb2fc8bc7dce0b6741e2150273451  b0830fb4747a6c6d20dea0b8c802d7ef   \n",
              "1  47770eb9100c2d0c44946d9cf07ec65d  41ce2a54c0b03bf3443c3d931a367089   \n",
              "2  949d5b44dbf5de918fe9c16f97b45f8a  f88197465ea7920adcdbec7375364d82   \n",
              "3  6514b8ad8028c9f2cc2374ded245783f  9bdf08b4b3b52b5526ff42d37d47f222   \n",
              "4  76c6e866289321a7c93b82b54852dc33  f54a9f0e6b351c431402b8461ea51999   \n",
              "\n",
              "  order_status  order_item_id                        product_id     price  \\\n",
              "0    delivered              1  595fac2a385ac33a80bd5114aec74eb8  0.477222   \n",
              "1    delivered              1  aa4383b373c6aca5d8797843e5594415  0.644058   \n",
              "2    delivered              1  d0b61bfb1de832b15ba9d266ca96e5b0  0.178781   \n",
              "3    delivered              1  4520766ec412348b8d4caa5e8a18c464  0.239482   \n",
              "4    delivered              1  ac1789e492dcd698c5c10b97a671243a  0.077141   \n",
              "\n",
              "   freight_value                         review_id  review_score  \\\n",
              "0       0.681463  8d5266042046a06655c8db133d120ba5  6.000000e-01   \n",
              "1       0.561054  e73b67b67587f7644d5bd1a52deb1b01  1.000000e+00   \n",
              "2       0.832483  359d03e676b3c069f62cadba8dd3f6e8  1.000000e+00   \n",
              "3       0.423299  07d67dd06ed5f88bef11ef6b464e79ae  1.000000e+00   \n",
              "4       0.453231  fc4af8aea8ec3f1a3cd181d3d0cadbd5  2.220446e-16   \n",
              "\n",
              "  product_category_name_english order_purchase_date  shipping_duration_days  \\\n",
              "0                     perfumery             2018-07                0.440678   \n",
              "1                          auto             2018-08                0.305085   \n",
              "2                      pet_shop             2017-11                0.440678   \n",
              "3                          auto             2017-05                0.305085   \n",
              "4               furniture_decor             2017-01                0.305085   \n",
              "\n",
              "   delivery_accuracy_days  payment_made  product_volume_cm3  \\\n",
              "0                   0.325           1.0            0.389404   \n",
              "1                   0.625           0.0            0.757419   \n",
              "2                   0.500           1.0            0.442634   \n",
              "3                   0.475           0.0            1.000000   \n",
              "4                   0.975           1.0            1.000000   \n",
              "\n",
              "   product_complexity  order_status_encoded  cluster_category  \n",
              "0            0.089435                     1                 0  \n",
              "1            0.126569                     1                 1  \n",
              "2            0.257845                     1                 0  \n",
              "3            0.512029                     1                 1  \n",
              "4            0.229079                     1                 0  "
            ]
          },
          "execution_count": 18,
          "metadata": {},
          "output_type": "execute_result"
        }
      ],
      "source": [
        "product_df.head()"
      ]
    },
    {
      "cell_type": "markdown",
      "metadata": {
        "id": "KkPem5eWL2UP"
      },
      "source": [
        "# **4. Data Splitting**"
      ]
    },
    {
      "cell_type": "markdown",
      "metadata": {
        "id": "YYj1rl_JNI9Y"
      },
      "source": [
        "Pertanyaan Bisnis yang Diambil\n",
        "\n",
        "Supervised Learning: **Produk mana yang berpotensi untuk lebih laku berdasarkan karakteristik yang telah dikelompokkan?** ✅"
      ]
    },
    {
      "cell_type": "markdown",
      "metadata": {
        "id": "80HzNiJSK4Oc"
      },
      "source": [
        "## 1. Menentukan Variabel Y (Dependent Variable)"
      ]
    },
    {
      "cell_type": "markdown",
      "metadata": {},
      "source": [
        "Untuk pemilihan data, dibagi menjadi fitur X (variabel independen) dan target y (variabel dependen).Pembagian ini memastikan model dilatih menggunakan fitur yang relavan sehingga hasil prediksi menjadi lebih akurat.\n"
      ]
    },
    {
      "cell_type": "code",
      "execution_count": 19,
      "metadata": {
        "colab": {
          "base_uri": "https://localhost:8080/",
          "height": 175
        },
        "id": "SUaKgVOT17XT",
        "outputId": "8a9adc88-ff16-4a39-c2ad-0724d1f3be74"
      },
      "outputs": [
        {
          "data": {
            "text/html": [
              "<div>\n",
              "<style scoped>\n",
              "    .dataframe tbody tr th:only-of-type {\n",
              "        vertical-align: middle;\n",
              "    }\n",
              "\n",
              "    .dataframe tbody tr th {\n",
              "        vertical-align: top;\n",
              "    }\n",
              "\n",
              "    .dataframe thead th {\n",
              "        text-align: right;\n",
              "    }\n",
              "</style>\n",
              "<table border=\"1\" class=\"dataframe\">\n",
              "  <thead>\n",
              "    <tr style=\"text-align: right;\">\n",
              "      <th></th>\n",
              "      <th>delivery_accuracy_days</th>\n",
              "      <th>review_score</th>\n",
              "    </tr>\n",
              "    <tr>\n",
              "      <th>cluster_category</th>\n",
              "      <th></th>\n",
              "      <th></th>\n",
              "    </tr>\n",
              "  </thead>\n",
              "  <tbody>\n",
              "    <tr>\n",
              "      <th>0</th>\n",
              "      <td>0.600</td>\n",
              "      <td>0.730952</td>\n",
              "    </tr>\n",
              "    <tr>\n",
              "      <th>1</th>\n",
              "      <td>0.625</td>\n",
              "      <td>0.714086</td>\n",
              "    </tr>\n",
              "    <tr>\n",
              "      <th>2</th>\n",
              "      <td>0.675</td>\n",
              "      <td>0.143805</td>\n",
              "    </tr>\n",
              "  </tbody>\n",
              "</table>\n",
              "</div>"
            ],
            "text/plain": [
              "                  delivery_accuracy_days  review_score\n",
              "cluster_category                                      \n",
              "0                                  0.600      0.730952\n",
              "1                                  0.625      0.714086\n",
              "2                                  0.675      0.143805"
            ]
          },
          "execution_count": 19,
          "metadata": {},
          "output_type": "execute_result"
        }
      ],
      "source": [
        "cluster_stats = product_df.groupby('cluster_category').agg({\n",
        "    'delivery_accuracy_days': lambda x: x.quantile(0.75),\n",
        "    'review_score': 'mean'\n",
        "})\n",
        "\n",
        "cluster_stats.columns = ['delivery_accuracy_days', 'review_score']\n",
        "cluster_stats"
      ]
    },
    {
      "cell_type": "markdown",
      "metadata": {
        "id": "Pzre1iuhK5V3"
      },
      "source": [
        "Metode assign digunakan untuk mengklasifikasikan produk berdasarkan aturan logis yang didasarkan pada karakteristik skor ulasan dan akurasi pengiriman. Pendekatan ini memungkinkan identifikasi produk yang berpotensi laku atau tidak laku secara cepat, memberikan dasar analisis sebelum menerapkan model prediktif yang lebih kompleks."
      ]
    },
    {
      "cell_type": "code",
      "execution_count": 20,
      "metadata": {
        "id": "OubAW-7ONKVj"
      },
      "outputs": [],
      "source": [
        "def assign_popularity(row):\n",
        "    cluster_threshold = cluster_stats.loc[row['cluster_category'], 'delivery_accuracy_days']\n",
        "    review_threshold = cluster_stats.loc[row['cluster_category'], 'review_score']\n",
        "    if row['delivery_accuracy_days'] >= cluster_threshold and row['review_score'] < review_threshold:\n",
        "        return '0'  # (produk dengan pengiriman lama + review rendah)\n",
        "    elif row['delivery_accuracy_days'] >= cluster_threshold * 0.85 and row['review_score'] >= review_threshold:\n",
        "        return '1'  # (produk dengan pengiriman cukup cepat + review tinggi)\n",
        "    else:\n",
        "        return '2'  # (produk dengan pengiriman cepat + review tinggi)\n",
        "\n",
        "product_df['popular'] = product_df.apply(assign_popularity, axis=1)"
      ]
    },
    {
      "cell_type": "markdown",
      "metadata": {
        "id": "dZ_waoj4LUCA"
      },
      "source": [
        "## 2. Menentukan Variabel x (Independent Variables)"
      ]
    },
    {
      "cell_type": "code",
      "execution_count": 21,
      "metadata": {
        "id": "xwwrRK0D8h83"
      },
      "outputs": [],
      "source": [
        "all_features = [\n",
        "  'price',\n",
        "  'freight_value',\n",
        "  'review_score',\n",
        "  'shipping_duration_days',\n",
        "  'delivery_accuracy_days',\n",
        "  'product_complexity',\n",
        "  'order_status_encoded'\n",
        "]\n",
        "\n",
        "X = product_df[all_features]\n",
        "y = product_df['popular']"
      ]
    },
    {
      "cell_type": "markdown",
      "metadata": {
        "id": "ecshoVC0LeB2"
      },
      "source": [
        "## 3. Membagi Distribusi Data"
      ]
    },
    {
      "cell_type": "markdown",
      "metadata": {
        "id": "uTjRbY8OLuck"
      },
      "source": [
        "Data dibagi menjadi 80% data latih, dan 20% data prediksi"
      ]
    },
    {
      "cell_type": "code",
      "execution_count": 22,
      "metadata": {
        "id": "a3SeIhcD8jlS"
      },
      "outputs": [],
      "source": [
        "X_train, X_test, y_train, y_test = train_test_split(X, y, test_size=0.2, random_state=42)"
      ]
    },
    {
      "cell_type": "markdown",
      "metadata": {
        "id": "mPggEcCfLsp_"
      },
      "source": [
        "## 4. Melihat Distribusi Data Latih"
      ]
    },
    {
      "cell_type": "code",
      "execution_count": 23,
      "metadata": {
        "colab": {
          "base_uri": "https://localhost:8080/",
          "height": 227
        },
        "id": "2XH--zsv8las",
        "outputId": "c63f4f17-f3af-4e48-a92f-9e35331e93a7"
      },
      "outputs": [
        {
          "name": "stdout",
          "output_type": "stream",
          "text": [
            "Distribusi Target pada Training Set:\n"
          ]
        },
        {
          "data": {
            "text/plain": [
              "popular\n",
              "2    29729\n",
              "1    12664\n",
              "0     4619\n",
              "Name: count, dtype: int64"
            ]
          },
          "execution_count": 23,
          "metadata": {},
          "output_type": "execute_result"
        }
      ],
      "source": [
        "train_distribution = y_train.value_counts()\n",
        "print(\"Distribusi Target pada Training Set:\")\n",
        "train_distribution"
      ]
    },
    {
      "cell_type": "markdown",
      "metadata": {
        "id": "D4p3e60mL5ei"
      },
      "source": [
        "## 5. Melihat Distribusi Data Prediksi"
      ]
    },
    {
      "cell_type": "code",
      "execution_count": 24,
      "metadata": {
        "colab": {
          "base_uri": "https://localhost:8080/",
          "height": 245
        },
        "id": "5FtXGfc_8m_v",
        "outputId": "912de63f-c32d-483d-b226-a15f94417823"
      },
      "outputs": [
        {
          "name": "stdout",
          "output_type": "stream",
          "text": [
            "\n",
            "Distribusi Target pada Test Set:\n"
          ]
        },
        {
          "data": {
            "text/plain": [
              "popular\n",
              "2    7339\n",
              "1    3195\n",
              "0    1219\n",
              "Name: count, dtype: int64"
            ]
          },
          "execution_count": 24,
          "metadata": {},
          "output_type": "execute_result"
        }
      ],
      "source": [
        "test_distribution = y_test.value_counts()\n",
        "print(\"\\nDistribusi Target pada Test Set:\")\n",
        "test_distribution"
      ]
    },
    {
      "cell_type": "markdown",
      "metadata": {
        "id": "IVPbB03CMhTT"
      },
      "source": [
        "# **5. Membangun Model Klasifikasi**\n"
      ]
    },
    {
      "cell_type": "markdown",
      "metadata": {
        "id": "Ned1pL9zMmBK"
      },
      "source": [
        "## **a. Membangun Model Klasifikasi**"
      ]
    },
    {
      "cell_type": "markdown",
      "metadata": {
        "id": "WAWzPOE4Nkti"
      },
      "source": [
        "Pada proses klasifikasi supervised learning ini, dibandingan 2 algoritma machine learning supervised, yaitu Logistic regression dan support vector machine (SVM) untuk melihat perporma 2 algoritma tersebut dalam mempelajari dan memprediksi data."
      ]
    },
    {
      "cell_type": "markdown",
      "metadata": {
        "id": "ATCjiJbh8xp-"
      },
      "source": [
        "### 1. Menerapkan Logistic Regression Untuk Data Latih"
      ]
    },
    {
      "cell_type": "code",
      "execution_count": 25,
      "metadata": {
        "colab": {
          "base_uri": "https://localhost:8080/",
          "height": 81
        },
        "id": "4JYxBe87NLDk",
        "outputId": "838df40c-a768-4da7-beda-e2c80dcdf3ec"
      },
      "outputs": [
        {
          "data": {
            "text/html": [
              "<style>#sk-container-id-1 {\n",
              "  /* Definition of color scheme common for light and dark mode */\n",
              "  --sklearn-color-text: #000;\n",
              "  --sklearn-color-text-muted: #666;\n",
              "  --sklearn-color-line: gray;\n",
              "  /* Definition of color scheme for unfitted estimators */\n",
              "  --sklearn-color-unfitted-level-0: #fff5e6;\n",
              "  --sklearn-color-unfitted-level-1: #f6e4d2;\n",
              "  --sklearn-color-unfitted-level-2: #ffe0b3;\n",
              "  --sklearn-color-unfitted-level-3: chocolate;\n",
              "  /* Definition of color scheme for fitted estimators */\n",
              "  --sklearn-color-fitted-level-0: #f0f8ff;\n",
              "  --sklearn-color-fitted-level-1: #d4ebff;\n",
              "  --sklearn-color-fitted-level-2: #b3dbfd;\n",
              "  --sklearn-color-fitted-level-3: cornflowerblue;\n",
              "\n",
              "  /* Specific color for light theme */\n",
              "  --sklearn-color-text-on-default-background: var(--sg-text-color, var(--theme-code-foreground, var(--jp-content-font-color1, black)));\n",
              "  --sklearn-color-background: var(--sg-background-color, var(--theme-background, var(--jp-layout-color0, white)));\n",
              "  --sklearn-color-border-box: var(--sg-text-color, var(--theme-code-foreground, var(--jp-content-font-color1, black)));\n",
              "  --sklearn-color-icon: #696969;\n",
              "\n",
              "  @media (prefers-color-scheme: dark) {\n",
              "    /* Redefinition of color scheme for dark theme */\n",
              "    --sklearn-color-text-on-default-background: var(--sg-text-color, var(--theme-code-foreground, var(--jp-content-font-color1, white)));\n",
              "    --sklearn-color-background: var(--sg-background-color, var(--theme-background, var(--jp-layout-color0, #111)));\n",
              "    --sklearn-color-border-box: var(--sg-text-color, var(--theme-code-foreground, var(--jp-content-font-color1, white)));\n",
              "    --sklearn-color-icon: #878787;\n",
              "  }\n",
              "}\n",
              "\n",
              "#sk-container-id-1 {\n",
              "  color: var(--sklearn-color-text);\n",
              "}\n",
              "\n",
              "#sk-container-id-1 pre {\n",
              "  padding: 0;\n",
              "}\n",
              "\n",
              "#sk-container-id-1 input.sk-hidden--visually {\n",
              "  border: 0;\n",
              "  clip: rect(1px 1px 1px 1px);\n",
              "  clip: rect(1px, 1px, 1px, 1px);\n",
              "  height: 1px;\n",
              "  margin: -1px;\n",
              "  overflow: hidden;\n",
              "  padding: 0;\n",
              "  position: absolute;\n",
              "  width: 1px;\n",
              "}\n",
              "\n",
              "#sk-container-id-1 div.sk-dashed-wrapped {\n",
              "  border: 1px dashed var(--sklearn-color-line);\n",
              "  margin: 0 0.4em 0.5em 0.4em;\n",
              "  box-sizing: border-box;\n",
              "  padding-bottom: 0.4em;\n",
              "  background-color: var(--sklearn-color-background);\n",
              "}\n",
              "\n",
              "#sk-container-id-1 div.sk-container {\n",
              "  /* jupyter's `normalize.less` sets `[hidden] { display: none; }`\n",
              "     but bootstrap.min.css set `[hidden] { display: none !important; }`\n",
              "     so we also need the `!important` here to be able to override the\n",
              "     default hidden behavior on the sphinx rendered scikit-learn.org.\n",
              "     See: https://github.com/scikit-learn/scikit-learn/issues/21755 */\n",
              "  display: inline-block !important;\n",
              "  position: relative;\n",
              "}\n",
              "\n",
              "#sk-container-id-1 div.sk-text-repr-fallback {\n",
              "  display: none;\n",
              "}\n",
              "\n",
              "div.sk-parallel-item,\n",
              "div.sk-serial,\n",
              "div.sk-item {\n",
              "  /* draw centered vertical line to link estimators */\n",
              "  background-image: linear-gradient(var(--sklearn-color-text-on-default-background), var(--sklearn-color-text-on-default-background));\n",
              "  background-size: 2px 100%;\n",
              "  background-repeat: no-repeat;\n",
              "  background-position: center center;\n",
              "}\n",
              "\n",
              "/* Parallel-specific style estimator block */\n",
              "\n",
              "#sk-container-id-1 div.sk-parallel-item::after {\n",
              "  content: \"\";\n",
              "  width: 100%;\n",
              "  border-bottom: 2px solid var(--sklearn-color-text-on-default-background);\n",
              "  flex-grow: 1;\n",
              "}\n",
              "\n",
              "#sk-container-id-1 div.sk-parallel {\n",
              "  display: flex;\n",
              "  align-items: stretch;\n",
              "  justify-content: center;\n",
              "  background-color: var(--sklearn-color-background);\n",
              "  position: relative;\n",
              "}\n",
              "\n",
              "#sk-container-id-1 div.sk-parallel-item {\n",
              "  display: flex;\n",
              "  flex-direction: column;\n",
              "}\n",
              "\n",
              "#sk-container-id-1 div.sk-parallel-item:first-child::after {\n",
              "  align-self: flex-end;\n",
              "  width: 50%;\n",
              "}\n",
              "\n",
              "#sk-container-id-1 div.sk-parallel-item:last-child::after {\n",
              "  align-self: flex-start;\n",
              "  width: 50%;\n",
              "}\n",
              "\n",
              "#sk-container-id-1 div.sk-parallel-item:only-child::after {\n",
              "  width: 0;\n",
              "}\n",
              "\n",
              "/* Serial-specific style estimator block */\n",
              "\n",
              "#sk-container-id-1 div.sk-serial {\n",
              "  display: flex;\n",
              "  flex-direction: column;\n",
              "  align-items: center;\n",
              "  background-color: var(--sklearn-color-background);\n",
              "  padding-right: 1em;\n",
              "  padding-left: 1em;\n",
              "}\n",
              "\n",
              "\n",
              "/* Toggleable style: style used for estimator/Pipeline/ColumnTransformer box that is\n",
              "clickable and can be expanded/collapsed.\n",
              "- Pipeline and ColumnTransformer use this feature and define the default style\n",
              "- Estimators will overwrite some part of the style using the `sk-estimator` class\n",
              "*/\n",
              "\n",
              "/* Pipeline and ColumnTransformer style (default) */\n",
              "\n",
              "#sk-container-id-1 div.sk-toggleable {\n",
              "  /* Default theme specific background. It is overwritten whether we have a\n",
              "  specific estimator or a Pipeline/ColumnTransformer */\n",
              "  background-color: var(--sklearn-color-background);\n",
              "}\n",
              "\n",
              "/* Toggleable label */\n",
              "#sk-container-id-1 label.sk-toggleable__label {\n",
              "  cursor: pointer;\n",
              "  display: flex;\n",
              "  width: 100%;\n",
              "  margin-bottom: 0;\n",
              "  padding: 0.5em;\n",
              "  box-sizing: border-box;\n",
              "  text-align: center;\n",
              "  align-items: start;\n",
              "  justify-content: space-between;\n",
              "  gap: 0.5em;\n",
              "}\n",
              "\n",
              "#sk-container-id-1 label.sk-toggleable__label .caption {\n",
              "  font-size: 0.6rem;\n",
              "  font-weight: lighter;\n",
              "  color: var(--sklearn-color-text-muted);\n",
              "}\n",
              "\n",
              "#sk-container-id-1 label.sk-toggleable__label-arrow:before {\n",
              "  /* Arrow on the left of the label */\n",
              "  content: \"▸\";\n",
              "  float: left;\n",
              "  margin-right: 0.25em;\n",
              "  color: var(--sklearn-color-icon);\n",
              "}\n",
              "\n",
              "#sk-container-id-1 label.sk-toggleable__label-arrow:hover:before {\n",
              "  color: var(--sklearn-color-text);\n",
              "}\n",
              "\n",
              "/* Toggleable content - dropdown */\n",
              "\n",
              "#sk-container-id-1 div.sk-toggleable__content {\n",
              "  max-height: 0;\n",
              "  max-width: 0;\n",
              "  overflow: hidden;\n",
              "  text-align: left;\n",
              "  /* unfitted */\n",
              "  background-color: var(--sklearn-color-unfitted-level-0);\n",
              "}\n",
              "\n",
              "#sk-container-id-1 div.sk-toggleable__content.fitted {\n",
              "  /* fitted */\n",
              "  background-color: var(--sklearn-color-fitted-level-0);\n",
              "}\n",
              "\n",
              "#sk-container-id-1 div.sk-toggleable__content pre {\n",
              "  margin: 0.2em;\n",
              "  border-radius: 0.25em;\n",
              "  color: var(--sklearn-color-text);\n",
              "  /* unfitted */\n",
              "  background-color: var(--sklearn-color-unfitted-level-0);\n",
              "}\n",
              "\n",
              "#sk-container-id-1 div.sk-toggleable__content.fitted pre {\n",
              "  /* unfitted */\n",
              "  background-color: var(--sklearn-color-fitted-level-0);\n",
              "}\n",
              "\n",
              "#sk-container-id-1 input.sk-toggleable__control:checked~div.sk-toggleable__content {\n",
              "  /* Expand drop-down */\n",
              "  max-height: 200px;\n",
              "  max-width: 100%;\n",
              "  overflow: auto;\n",
              "}\n",
              "\n",
              "#sk-container-id-1 input.sk-toggleable__control:checked~label.sk-toggleable__label-arrow:before {\n",
              "  content: \"▾\";\n",
              "}\n",
              "\n",
              "/* Pipeline/ColumnTransformer-specific style */\n",
              "\n",
              "#sk-container-id-1 div.sk-label input.sk-toggleable__control:checked~label.sk-toggleable__label {\n",
              "  color: var(--sklearn-color-text);\n",
              "  background-color: var(--sklearn-color-unfitted-level-2);\n",
              "}\n",
              "\n",
              "#sk-container-id-1 div.sk-label.fitted input.sk-toggleable__control:checked~label.sk-toggleable__label {\n",
              "  background-color: var(--sklearn-color-fitted-level-2);\n",
              "}\n",
              "\n",
              "/* Estimator-specific style */\n",
              "\n",
              "/* Colorize estimator box */\n",
              "#sk-container-id-1 div.sk-estimator input.sk-toggleable__control:checked~label.sk-toggleable__label {\n",
              "  /* unfitted */\n",
              "  background-color: var(--sklearn-color-unfitted-level-2);\n",
              "}\n",
              "\n",
              "#sk-container-id-1 div.sk-estimator.fitted input.sk-toggleable__control:checked~label.sk-toggleable__label {\n",
              "  /* fitted */\n",
              "  background-color: var(--sklearn-color-fitted-level-2);\n",
              "}\n",
              "\n",
              "#sk-container-id-1 div.sk-label label.sk-toggleable__label,\n",
              "#sk-container-id-1 div.sk-label label {\n",
              "  /* The background is the default theme color */\n",
              "  color: var(--sklearn-color-text-on-default-background);\n",
              "}\n",
              "\n",
              "/* On hover, darken the color of the background */\n",
              "#sk-container-id-1 div.sk-label:hover label.sk-toggleable__label {\n",
              "  color: var(--sklearn-color-text);\n",
              "  background-color: var(--sklearn-color-unfitted-level-2);\n",
              "}\n",
              "\n",
              "/* Label box, darken color on hover, fitted */\n",
              "#sk-container-id-1 div.sk-label.fitted:hover label.sk-toggleable__label.fitted {\n",
              "  color: var(--sklearn-color-text);\n",
              "  background-color: var(--sklearn-color-fitted-level-2);\n",
              "}\n",
              "\n",
              "/* Estimator label */\n",
              "\n",
              "#sk-container-id-1 div.sk-label label {\n",
              "  font-family: monospace;\n",
              "  font-weight: bold;\n",
              "  display: inline-block;\n",
              "  line-height: 1.2em;\n",
              "}\n",
              "\n",
              "#sk-container-id-1 div.sk-label-container {\n",
              "  text-align: center;\n",
              "}\n",
              "\n",
              "/* Estimator-specific */\n",
              "#sk-container-id-1 div.sk-estimator {\n",
              "  font-family: monospace;\n",
              "  border: 1px dotted var(--sklearn-color-border-box);\n",
              "  border-radius: 0.25em;\n",
              "  box-sizing: border-box;\n",
              "  margin-bottom: 0.5em;\n",
              "  /* unfitted */\n",
              "  background-color: var(--sklearn-color-unfitted-level-0);\n",
              "}\n",
              "\n",
              "#sk-container-id-1 div.sk-estimator.fitted {\n",
              "  /* fitted */\n",
              "  background-color: var(--sklearn-color-fitted-level-0);\n",
              "}\n",
              "\n",
              "/* on hover */\n",
              "#sk-container-id-1 div.sk-estimator:hover {\n",
              "  /* unfitted */\n",
              "  background-color: var(--sklearn-color-unfitted-level-2);\n",
              "}\n",
              "\n",
              "#sk-container-id-1 div.sk-estimator.fitted:hover {\n",
              "  /* fitted */\n",
              "  background-color: var(--sklearn-color-fitted-level-2);\n",
              "}\n",
              "\n",
              "/* Specification for estimator info (e.g. \"i\" and \"?\") */\n",
              "\n",
              "/* Common style for \"i\" and \"?\" */\n",
              "\n",
              ".sk-estimator-doc-link,\n",
              "a:link.sk-estimator-doc-link,\n",
              "a:visited.sk-estimator-doc-link {\n",
              "  float: right;\n",
              "  font-size: smaller;\n",
              "  line-height: 1em;\n",
              "  font-family: monospace;\n",
              "  background-color: var(--sklearn-color-background);\n",
              "  border-radius: 1em;\n",
              "  height: 1em;\n",
              "  width: 1em;\n",
              "  text-decoration: none !important;\n",
              "  margin-left: 0.5em;\n",
              "  text-align: center;\n",
              "  /* unfitted */\n",
              "  border: var(--sklearn-color-unfitted-level-1) 1pt solid;\n",
              "  color: var(--sklearn-color-unfitted-level-1);\n",
              "}\n",
              "\n",
              ".sk-estimator-doc-link.fitted,\n",
              "a:link.sk-estimator-doc-link.fitted,\n",
              "a:visited.sk-estimator-doc-link.fitted {\n",
              "  /* fitted */\n",
              "  border: var(--sklearn-color-fitted-level-1) 1pt solid;\n",
              "  color: var(--sklearn-color-fitted-level-1);\n",
              "}\n",
              "\n",
              "/* On hover */\n",
              "div.sk-estimator:hover .sk-estimator-doc-link:hover,\n",
              ".sk-estimator-doc-link:hover,\n",
              "div.sk-label-container:hover .sk-estimator-doc-link:hover,\n",
              ".sk-estimator-doc-link:hover {\n",
              "  /* unfitted */\n",
              "  background-color: var(--sklearn-color-unfitted-level-3);\n",
              "  color: var(--sklearn-color-background);\n",
              "  text-decoration: none;\n",
              "}\n",
              "\n",
              "div.sk-estimator.fitted:hover .sk-estimator-doc-link.fitted:hover,\n",
              ".sk-estimator-doc-link.fitted:hover,\n",
              "div.sk-label-container:hover .sk-estimator-doc-link.fitted:hover,\n",
              ".sk-estimator-doc-link.fitted:hover {\n",
              "  /* fitted */\n",
              "  background-color: var(--sklearn-color-fitted-level-3);\n",
              "  color: var(--sklearn-color-background);\n",
              "  text-decoration: none;\n",
              "}\n",
              "\n",
              "/* Span, style for the box shown on hovering the info icon */\n",
              ".sk-estimator-doc-link span {\n",
              "  display: none;\n",
              "  z-index: 9999;\n",
              "  position: relative;\n",
              "  font-weight: normal;\n",
              "  right: .2ex;\n",
              "  padding: .5ex;\n",
              "  margin: .5ex;\n",
              "  width: min-content;\n",
              "  min-width: 20ex;\n",
              "  max-width: 50ex;\n",
              "  color: var(--sklearn-color-text);\n",
              "  box-shadow: 2pt 2pt 4pt #999;\n",
              "  /* unfitted */\n",
              "  background: var(--sklearn-color-unfitted-level-0);\n",
              "  border: .5pt solid var(--sklearn-color-unfitted-level-3);\n",
              "}\n",
              "\n",
              ".sk-estimator-doc-link.fitted span {\n",
              "  /* fitted */\n",
              "  background: var(--sklearn-color-fitted-level-0);\n",
              "  border: var(--sklearn-color-fitted-level-3);\n",
              "}\n",
              "\n",
              ".sk-estimator-doc-link:hover span {\n",
              "  display: block;\n",
              "}\n",
              "\n",
              "/* \"?\"-specific style due to the `<a>` HTML tag */\n",
              "\n",
              "#sk-container-id-1 a.estimator_doc_link {\n",
              "  float: right;\n",
              "  font-size: 1rem;\n",
              "  line-height: 1em;\n",
              "  font-family: monospace;\n",
              "  background-color: var(--sklearn-color-background);\n",
              "  border-radius: 1rem;\n",
              "  height: 1rem;\n",
              "  width: 1rem;\n",
              "  text-decoration: none;\n",
              "  /* unfitted */\n",
              "  color: var(--sklearn-color-unfitted-level-1);\n",
              "  border: var(--sklearn-color-unfitted-level-1) 1pt solid;\n",
              "}\n",
              "\n",
              "#sk-container-id-1 a.estimator_doc_link.fitted {\n",
              "  /* fitted */\n",
              "  border: var(--sklearn-color-fitted-level-1) 1pt solid;\n",
              "  color: var(--sklearn-color-fitted-level-1);\n",
              "}\n",
              "\n",
              "/* On hover */\n",
              "#sk-container-id-1 a.estimator_doc_link:hover {\n",
              "  /* unfitted */\n",
              "  background-color: var(--sklearn-color-unfitted-level-3);\n",
              "  color: var(--sklearn-color-background);\n",
              "  text-decoration: none;\n",
              "}\n",
              "\n",
              "#sk-container-id-1 a.estimator_doc_link.fitted:hover {\n",
              "  /* fitted */\n",
              "  background-color: var(--sklearn-color-fitted-level-3);\n",
              "}\n",
              "</style><div id=\"sk-container-id-1\" class=\"sk-top-container\"><div class=\"sk-text-repr-fallback\"><pre>LogisticRegression(class_weight=&#x27;balanced&#x27;, random_state=42)</pre><b>In a Jupyter environment, please rerun this cell to show the HTML representation or trust the notebook. <br />On GitHub, the HTML representation is unable to render, please try loading this page with nbviewer.org.</b></div><div class=\"sk-container\" hidden><div class=\"sk-item\"><div class=\"sk-estimator fitted sk-toggleable\"><input class=\"sk-toggleable__control sk-hidden--visually\" id=\"sk-estimator-id-1\" type=\"checkbox\" checked><label for=\"sk-estimator-id-1\" class=\"sk-toggleable__label fitted sk-toggleable__label-arrow\"><div><div>LogisticRegression</div></div><div><a class=\"sk-estimator-doc-link fitted\" rel=\"noreferrer\" target=\"_blank\" href=\"https://scikit-learn.org/1.6/modules/generated/sklearn.linear_model.LogisticRegression.html\">?<span>Documentation for LogisticRegression</span></a><span class=\"sk-estimator-doc-link fitted\">i<span>Fitted</span></span></div></label><div class=\"sk-toggleable__content fitted\"><pre>LogisticRegression(class_weight=&#x27;balanced&#x27;, random_state=42)</pre></div> </div></div></div></div>"
            ],
            "text/plain": [
              "LogisticRegression(class_weight='balanced', random_state=42)"
            ]
          },
          "execution_count": 25,
          "metadata": {},
          "output_type": "execute_result"
        }
      ],
      "source": [
        "logreg_model = LogisticRegression(class_weight='balanced', random_state=42)\n",
        "logreg_model.fit(X_train, y_train)"
      ]
    },
    {
      "cell_type": "code",
      "execution_count": 26,
      "metadata": {
        "colab": {
          "base_uri": "https://localhost:8080/"
        },
        "id": "uI7gjcZf8ssj",
        "outputId": "f7485489-7bac-4d28-d043-ef91b4daf193"
      },
      "outputs": [
        {
          "name": "stdout",
          "output_type": "stream",
          "text": [
            "Akurasi pada data latih menggunakan Logistic Regresi: 0.9653%\n"
          ]
        }
      ],
      "source": [
        "y_train_pred_logreg = logreg_model.predict(X_train)\n",
        "accuracy_train = accuracy_score(y_train, y_train_pred_logreg)\n",
        "print(f\"Akurasi pada data latih menggunakan Logistic Regresi: {accuracy_train:.4f}%\")"
      ]
    },
    {
      "cell_type": "markdown",
      "metadata": {
        "id": "j5t8t4FzNACs"
      },
      "source": [
        "### 2. Laporan Performa Logistic Regression Pada Data Latih"
      ]
    },
    {
      "cell_type": "code",
      "execution_count": 27,
      "metadata": {
        "colab": {
          "base_uri": "https://localhost:8080/"
        },
        "id": "O7yyZd868tUa",
        "outputId": "42c60229-5e3d-4adf-8008-370e6d7a907c"
      },
      "outputs": [
        {
          "name": "stdout",
          "output_type": "stream",
          "text": [
            "Classification Report untuk Data Latih menggunakan Logistic Regresi:\n",
            "              precision    recall  f1-score   support\n",
            "\n",
            "           0       0.91      1.00      0.95      4619\n",
            "           1       0.92      1.00      0.96     12664\n",
            "           2       1.00      0.95      0.97     29729\n",
            "\n",
            "    accuracy                           0.97     47012\n",
            "   macro avg       0.94      0.98      0.96     47012\n",
            "weighted avg       0.97      0.97      0.97     47012\n",
            "\n"
          ]
        }
      ],
      "source": [
        "report_train = classification_report(y_train, y_train_pred_logreg)\n",
        "print(\"Classification Report untuk Data Latih menggunakan Logistic Regresi:\")\n",
        "print(report_train)"
      ]
    },
    {
      "cell_type": "markdown",
      "metadata": {
        "id": "seYoHNY3XU1y"
      },
      "source": [
        "### 3. Menerapkan SVM Untuk Data Latih"
      ]
    },
    {
      "cell_type": "code",
      "execution_count": 28,
      "metadata": {
        "colab": {
          "base_uri": "https://localhost:8080/",
          "height": 81
        },
        "id": "_wGtFvbtu3MK",
        "outputId": "6d7e6388-45f2-4010-ce30-da9ce74e1f15"
      },
      "outputs": [
        {
          "data": {
            "text/html": [
              "<style>#sk-container-id-2 {\n",
              "  /* Definition of color scheme common for light and dark mode */\n",
              "  --sklearn-color-text: #000;\n",
              "  --sklearn-color-text-muted: #666;\n",
              "  --sklearn-color-line: gray;\n",
              "  /* Definition of color scheme for unfitted estimators */\n",
              "  --sklearn-color-unfitted-level-0: #fff5e6;\n",
              "  --sklearn-color-unfitted-level-1: #f6e4d2;\n",
              "  --sklearn-color-unfitted-level-2: #ffe0b3;\n",
              "  --sklearn-color-unfitted-level-3: chocolate;\n",
              "  /* Definition of color scheme for fitted estimators */\n",
              "  --sklearn-color-fitted-level-0: #f0f8ff;\n",
              "  --sklearn-color-fitted-level-1: #d4ebff;\n",
              "  --sklearn-color-fitted-level-2: #b3dbfd;\n",
              "  --sklearn-color-fitted-level-3: cornflowerblue;\n",
              "\n",
              "  /* Specific color for light theme */\n",
              "  --sklearn-color-text-on-default-background: var(--sg-text-color, var(--theme-code-foreground, var(--jp-content-font-color1, black)));\n",
              "  --sklearn-color-background: var(--sg-background-color, var(--theme-background, var(--jp-layout-color0, white)));\n",
              "  --sklearn-color-border-box: var(--sg-text-color, var(--theme-code-foreground, var(--jp-content-font-color1, black)));\n",
              "  --sklearn-color-icon: #696969;\n",
              "\n",
              "  @media (prefers-color-scheme: dark) {\n",
              "    /* Redefinition of color scheme for dark theme */\n",
              "    --sklearn-color-text-on-default-background: var(--sg-text-color, var(--theme-code-foreground, var(--jp-content-font-color1, white)));\n",
              "    --sklearn-color-background: var(--sg-background-color, var(--theme-background, var(--jp-layout-color0, #111)));\n",
              "    --sklearn-color-border-box: var(--sg-text-color, var(--theme-code-foreground, var(--jp-content-font-color1, white)));\n",
              "    --sklearn-color-icon: #878787;\n",
              "  }\n",
              "}\n",
              "\n",
              "#sk-container-id-2 {\n",
              "  color: var(--sklearn-color-text);\n",
              "}\n",
              "\n",
              "#sk-container-id-2 pre {\n",
              "  padding: 0;\n",
              "}\n",
              "\n",
              "#sk-container-id-2 input.sk-hidden--visually {\n",
              "  border: 0;\n",
              "  clip: rect(1px 1px 1px 1px);\n",
              "  clip: rect(1px, 1px, 1px, 1px);\n",
              "  height: 1px;\n",
              "  margin: -1px;\n",
              "  overflow: hidden;\n",
              "  padding: 0;\n",
              "  position: absolute;\n",
              "  width: 1px;\n",
              "}\n",
              "\n",
              "#sk-container-id-2 div.sk-dashed-wrapped {\n",
              "  border: 1px dashed var(--sklearn-color-line);\n",
              "  margin: 0 0.4em 0.5em 0.4em;\n",
              "  box-sizing: border-box;\n",
              "  padding-bottom: 0.4em;\n",
              "  background-color: var(--sklearn-color-background);\n",
              "}\n",
              "\n",
              "#sk-container-id-2 div.sk-container {\n",
              "  /* jupyter's `normalize.less` sets `[hidden] { display: none; }`\n",
              "     but bootstrap.min.css set `[hidden] { display: none !important; }`\n",
              "     so we also need the `!important` here to be able to override the\n",
              "     default hidden behavior on the sphinx rendered scikit-learn.org.\n",
              "     See: https://github.com/scikit-learn/scikit-learn/issues/21755 */\n",
              "  display: inline-block !important;\n",
              "  position: relative;\n",
              "}\n",
              "\n",
              "#sk-container-id-2 div.sk-text-repr-fallback {\n",
              "  display: none;\n",
              "}\n",
              "\n",
              "div.sk-parallel-item,\n",
              "div.sk-serial,\n",
              "div.sk-item {\n",
              "  /* draw centered vertical line to link estimators */\n",
              "  background-image: linear-gradient(var(--sklearn-color-text-on-default-background), var(--sklearn-color-text-on-default-background));\n",
              "  background-size: 2px 100%;\n",
              "  background-repeat: no-repeat;\n",
              "  background-position: center center;\n",
              "}\n",
              "\n",
              "/* Parallel-specific style estimator block */\n",
              "\n",
              "#sk-container-id-2 div.sk-parallel-item::after {\n",
              "  content: \"\";\n",
              "  width: 100%;\n",
              "  border-bottom: 2px solid var(--sklearn-color-text-on-default-background);\n",
              "  flex-grow: 1;\n",
              "}\n",
              "\n",
              "#sk-container-id-2 div.sk-parallel {\n",
              "  display: flex;\n",
              "  align-items: stretch;\n",
              "  justify-content: center;\n",
              "  background-color: var(--sklearn-color-background);\n",
              "  position: relative;\n",
              "}\n",
              "\n",
              "#sk-container-id-2 div.sk-parallel-item {\n",
              "  display: flex;\n",
              "  flex-direction: column;\n",
              "}\n",
              "\n",
              "#sk-container-id-2 div.sk-parallel-item:first-child::after {\n",
              "  align-self: flex-end;\n",
              "  width: 50%;\n",
              "}\n",
              "\n",
              "#sk-container-id-2 div.sk-parallel-item:last-child::after {\n",
              "  align-self: flex-start;\n",
              "  width: 50%;\n",
              "}\n",
              "\n",
              "#sk-container-id-2 div.sk-parallel-item:only-child::after {\n",
              "  width: 0;\n",
              "}\n",
              "\n",
              "/* Serial-specific style estimator block */\n",
              "\n",
              "#sk-container-id-2 div.sk-serial {\n",
              "  display: flex;\n",
              "  flex-direction: column;\n",
              "  align-items: center;\n",
              "  background-color: var(--sklearn-color-background);\n",
              "  padding-right: 1em;\n",
              "  padding-left: 1em;\n",
              "}\n",
              "\n",
              "\n",
              "/* Toggleable style: style used for estimator/Pipeline/ColumnTransformer box that is\n",
              "clickable and can be expanded/collapsed.\n",
              "- Pipeline and ColumnTransformer use this feature and define the default style\n",
              "- Estimators will overwrite some part of the style using the `sk-estimator` class\n",
              "*/\n",
              "\n",
              "/* Pipeline and ColumnTransformer style (default) */\n",
              "\n",
              "#sk-container-id-2 div.sk-toggleable {\n",
              "  /* Default theme specific background. It is overwritten whether we have a\n",
              "  specific estimator or a Pipeline/ColumnTransformer */\n",
              "  background-color: var(--sklearn-color-background);\n",
              "}\n",
              "\n",
              "/* Toggleable label */\n",
              "#sk-container-id-2 label.sk-toggleable__label {\n",
              "  cursor: pointer;\n",
              "  display: flex;\n",
              "  width: 100%;\n",
              "  margin-bottom: 0;\n",
              "  padding: 0.5em;\n",
              "  box-sizing: border-box;\n",
              "  text-align: center;\n",
              "  align-items: start;\n",
              "  justify-content: space-between;\n",
              "  gap: 0.5em;\n",
              "}\n",
              "\n",
              "#sk-container-id-2 label.sk-toggleable__label .caption {\n",
              "  font-size: 0.6rem;\n",
              "  font-weight: lighter;\n",
              "  color: var(--sklearn-color-text-muted);\n",
              "}\n",
              "\n",
              "#sk-container-id-2 label.sk-toggleable__label-arrow:before {\n",
              "  /* Arrow on the left of the label */\n",
              "  content: \"▸\";\n",
              "  float: left;\n",
              "  margin-right: 0.25em;\n",
              "  color: var(--sklearn-color-icon);\n",
              "}\n",
              "\n",
              "#sk-container-id-2 label.sk-toggleable__label-arrow:hover:before {\n",
              "  color: var(--sklearn-color-text);\n",
              "}\n",
              "\n",
              "/* Toggleable content - dropdown */\n",
              "\n",
              "#sk-container-id-2 div.sk-toggleable__content {\n",
              "  max-height: 0;\n",
              "  max-width: 0;\n",
              "  overflow: hidden;\n",
              "  text-align: left;\n",
              "  /* unfitted */\n",
              "  background-color: var(--sklearn-color-unfitted-level-0);\n",
              "}\n",
              "\n",
              "#sk-container-id-2 div.sk-toggleable__content.fitted {\n",
              "  /* fitted */\n",
              "  background-color: var(--sklearn-color-fitted-level-0);\n",
              "}\n",
              "\n",
              "#sk-container-id-2 div.sk-toggleable__content pre {\n",
              "  margin: 0.2em;\n",
              "  border-radius: 0.25em;\n",
              "  color: var(--sklearn-color-text);\n",
              "  /* unfitted */\n",
              "  background-color: var(--sklearn-color-unfitted-level-0);\n",
              "}\n",
              "\n",
              "#sk-container-id-2 div.sk-toggleable__content.fitted pre {\n",
              "  /* unfitted */\n",
              "  background-color: var(--sklearn-color-fitted-level-0);\n",
              "}\n",
              "\n",
              "#sk-container-id-2 input.sk-toggleable__control:checked~div.sk-toggleable__content {\n",
              "  /* Expand drop-down */\n",
              "  max-height: 200px;\n",
              "  max-width: 100%;\n",
              "  overflow: auto;\n",
              "}\n",
              "\n",
              "#sk-container-id-2 input.sk-toggleable__control:checked~label.sk-toggleable__label-arrow:before {\n",
              "  content: \"▾\";\n",
              "}\n",
              "\n",
              "/* Pipeline/ColumnTransformer-specific style */\n",
              "\n",
              "#sk-container-id-2 div.sk-label input.sk-toggleable__control:checked~label.sk-toggleable__label {\n",
              "  color: var(--sklearn-color-text);\n",
              "  background-color: var(--sklearn-color-unfitted-level-2);\n",
              "}\n",
              "\n",
              "#sk-container-id-2 div.sk-label.fitted input.sk-toggleable__control:checked~label.sk-toggleable__label {\n",
              "  background-color: var(--sklearn-color-fitted-level-2);\n",
              "}\n",
              "\n",
              "/* Estimator-specific style */\n",
              "\n",
              "/* Colorize estimator box */\n",
              "#sk-container-id-2 div.sk-estimator input.sk-toggleable__control:checked~label.sk-toggleable__label {\n",
              "  /* unfitted */\n",
              "  background-color: var(--sklearn-color-unfitted-level-2);\n",
              "}\n",
              "\n",
              "#sk-container-id-2 div.sk-estimator.fitted input.sk-toggleable__control:checked~label.sk-toggleable__label {\n",
              "  /* fitted */\n",
              "  background-color: var(--sklearn-color-fitted-level-2);\n",
              "}\n",
              "\n",
              "#sk-container-id-2 div.sk-label label.sk-toggleable__label,\n",
              "#sk-container-id-2 div.sk-label label {\n",
              "  /* The background is the default theme color */\n",
              "  color: var(--sklearn-color-text-on-default-background);\n",
              "}\n",
              "\n",
              "/* On hover, darken the color of the background */\n",
              "#sk-container-id-2 div.sk-label:hover label.sk-toggleable__label {\n",
              "  color: var(--sklearn-color-text);\n",
              "  background-color: var(--sklearn-color-unfitted-level-2);\n",
              "}\n",
              "\n",
              "/* Label box, darken color on hover, fitted */\n",
              "#sk-container-id-2 div.sk-label.fitted:hover label.sk-toggleable__label.fitted {\n",
              "  color: var(--sklearn-color-text);\n",
              "  background-color: var(--sklearn-color-fitted-level-2);\n",
              "}\n",
              "\n",
              "/* Estimator label */\n",
              "\n",
              "#sk-container-id-2 div.sk-label label {\n",
              "  font-family: monospace;\n",
              "  font-weight: bold;\n",
              "  display: inline-block;\n",
              "  line-height: 1.2em;\n",
              "}\n",
              "\n",
              "#sk-container-id-2 div.sk-label-container {\n",
              "  text-align: center;\n",
              "}\n",
              "\n",
              "/* Estimator-specific */\n",
              "#sk-container-id-2 div.sk-estimator {\n",
              "  font-family: monospace;\n",
              "  border: 1px dotted var(--sklearn-color-border-box);\n",
              "  border-radius: 0.25em;\n",
              "  box-sizing: border-box;\n",
              "  margin-bottom: 0.5em;\n",
              "  /* unfitted */\n",
              "  background-color: var(--sklearn-color-unfitted-level-0);\n",
              "}\n",
              "\n",
              "#sk-container-id-2 div.sk-estimator.fitted {\n",
              "  /* fitted */\n",
              "  background-color: var(--sklearn-color-fitted-level-0);\n",
              "}\n",
              "\n",
              "/* on hover */\n",
              "#sk-container-id-2 div.sk-estimator:hover {\n",
              "  /* unfitted */\n",
              "  background-color: var(--sklearn-color-unfitted-level-2);\n",
              "}\n",
              "\n",
              "#sk-container-id-2 div.sk-estimator.fitted:hover {\n",
              "  /* fitted */\n",
              "  background-color: var(--sklearn-color-fitted-level-2);\n",
              "}\n",
              "\n",
              "/* Specification for estimator info (e.g. \"i\" and \"?\") */\n",
              "\n",
              "/* Common style for \"i\" and \"?\" */\n",
              "\n",
              ".sk-estimator-doc-link,\n",
              "a:link.sk-estimator-doc-link,\n",
              "a:visited.sk-estimator-doc-link {\n",
              "  float: right;\n",
              "  font-size: smaller;\n",
              "  line-height: 1em;\n",
              "  font-family: monospace;\n",
              "  background-color: var(--sklearn-color-background);\n",
              "  border-radius: 1em;\n",
              "  height: 1em;\n",
              "  width: 1em;\n",
              "  text-decoration: none !important;\n",
              "  margin-left: 0.5em;\n",
              "  text-align: center;\n",
              "  /* unfitted */\n",
              "  border: var(--sklearn-color-unfitted-level-1) 1pt solid;\n",
              "  color: var(--sklearn-color-unfitted-level-1);\n",
              "}\n",
              "\n",
              ".sk-estimator-doc-link.fitted,\n",
              "a:link.sk-estimator-doc-link.fitted,\n",
              "a:visited.sk-estimator-doc-link.fitted {\n",
              "  /* fitted */\n",
              "  border: var(--sklearn-color-fitted-level-1) 1pt solid;\n",
              "  color: var(--sklearn-color-fitted-level-1);\n",
              "}\n",
              "\n",
              "/* On hover */\n",
              "div.sk-estimator:hover .sk-estimator-doc-link:hover,\n",
              ".sk-estimator-doc-link:hover,\n",
              "div.sk-label-container:hover .sk-estimator-doc-link:hover,\n",
              ".sk-estimator-doc-link:hover {\n",
              "  /* unfitted */\n",
              "  background-color: var(--sklearn-color-unfitted-level-3);\n",
              "  color: var(--sklearn-color-background);\n",
              "  text-decoration: none;\n",
              "}\n",
              "\n",
              "div.sk-estimator.fitted:hover .sk-estimator-doc-link.fitted:hover,\n",
              ".sk-estimator-doc-link.fitted:hover,\n",
              "div.sk-label-container:hover .sk-estimator-doc-link.fitted:hover,\n",
              ".sk-estimator-doc-link.fitted:hover {\n",
              "  /* fitted */\n",
              "  background-color: var(--sklearn-color-fitted-level-3);\n",
              "  color: var(--sklearn-color-background);\n",
              "  text-decoration: none;\n",
              "}\n",
              "\n",
              "/* Span, style for the box shown on hovering the info icon */\n",
              ".sk-estimator-doc-link span {\n",
              "  display: none;\n",
              "  z-index: 9999;\n",
              "  position: relative;\n",
              "  font-weight: normal;\n",
              "  right: .2ex;\n",
              "  padding: .5ex;\n",
              "  margin: .5ex;\n",
              "  width: min-content;\n",
              "  min-width: 20ex;\n",
              "  max-width: 50ex;\n",
              "  color: var(--sklearn-color-text);\n",
              "  box-shadow: 2pt 2pt 4pt #999;\n",
              "  /* unfitted */\n",
              "  background: var(--sklearn-color-unfitted-level-0);\n",
              "  border: .5pt solid var(--sklearn-color-unfitted-level-3);\n",
              "}\n",
              "\n",
              ".sk-estimator-doc-link.fitted span {\n",
              "  /* fitted */\n",
              "  background: var(--sklearn-color-fitted-level-0);\n",
              "  border: var(--sklearn-color-fitted-level-3);\n",
              "}\n",
              "\n",
              ".sk-estimator-doc-link:hover span {\n",
              "  display: block;\n",
              "}\n",
              "\n",
              "/* \"?\"-specific style due to the `<a>` HTML tag */\n",
              "\n",
              "#sk-container-id-2 a.estimator_doc_link {\n",
              "  float: right;\n",
              "  font-size: 1rem;\n",
              "  line-height: 1em;\n",
              "  font-family: monospace;\n",
              "  background-color: var(--sklearn-color-background);\n",
              "  border-radius: 1rem;\n",
              "  height: 1rem;\n",
              "  width: 1rem;\n",
              "  text-decoration: none;\n",
              "  /* unfitted */\n",
              "  color: var(--sklearn-color-unfitted-level-1);\n",
              "  border: var(--sklearn-color-unfitted-level-1) 1pt solid;\n",
              "}\n",
              "\n",
              "#sk-container-id-2 a.estimator_doc_link.fitted {\n",
              "  /* fitted */\n",
              "  border: var(--sklearn-color-fitted-level-1) 1pt solid;\n",
              "  color: var(--sklearn-color-fitted-level-1);\n",
              "}\n",
              "\n",
              "/* On hover */\n",
              "#sk-container-id-2 a.estimator_doc_link:hover {\n",
              "  /* unfitted */\n",
              "  background-color: var(--sklearn-color-unfitted-level-3);\n",
              "  color: var(--sklearn-color-background);\n",
              "  text-decoration: none;\n",
              "}\n",
              "\n",
              "#sk-container-id-2 a.estimator_doc_link.fitted:hover {\n",
              "  /* fitted */\n",
              "  background-color: var(--sklearn-color-fitted-level-3);\n",
              "}\n",
              "</style><div id=\"sk-container-id-2\" class=\"sk-top-container\"><div class=\"sk-text-repr-fallback\"><pre>SVC(class_weight=&#x27;balanced&#x27;, kernel=&#x27;linear&#x27;, random_state=42)</pre><b>In a Jupyter environment, please rerun this cell to show the HTML representation or trust the notebook. <br />On GitHub, the HTML representation is unable to render, please try loading this page with nbviewer.org.</b></div><div class=\"sk-container\" hidden><div class=\"sk-item\"><div class=\"sk-estimator fitted sk-toggleable\"><input class=\"sk-toggleable__control sk-hidden--visually\" id=\"sk-estimator-id-2\" type=\"checkbox\" checked><label for=\"sk-estimator-id-2\" class=\"sk-toggleable__label fitted sk-toggleable__label-arrow\"><div><div>SVC</div></div><div><a class=\"sk-estimator-doc-link fitted\" rel=\"noreferrer\" target=\"_blank\" href=\"https://scikit-learn.org/1.6/modules/generated/sklearn.svm.SVC.html\">?<span>Documentation for SVC</span></a><span class=\"sk-estimator-doc-link fitted\">i<span>Fitted</span></span></div></label><div class=\"sk-toggleable__content fitted\"><pre>SVC(class_weight=&#x27;balanced&#x27;, kernel=&#x27;linear&#x27;, random_state=42)</pre></div> </div></div></div></div>"
            ],
            "text/plain": [
              "SVC(class_weight='balanced', kernel='linear', random_state=42)"
            ]
          },
          "execution_count": 28,
          "metadata": {},
          "output_type": "execute_result"
        }
      ],
      "source": [
        "svm_model = SVC(kernel='linear', class_weight='balanced', random_state=42)\n",
        "svm_model.fit(X_train, y_train)"
      ]
    },
    {
      "cell_type": "code",
      "execution_count": 29,
      "metadata": {
        "colab": {
          "base_uri": "https://localhost:8080/"
        },
        "id": "JP9EM1NRu75M",
        "outputId": "8a8d5e1b-5d1d-4109-c6e7-a08794f1329f"
      },
      "outputs": [
        {
          "name": "stdout",
          "output_type": "stream",
          "text": [
            "Akurasi pada data latih menggunakan SVM: 0.9608\n"
          ]
        }
      ],
      "source": [
        "y_train_pred_svm = svm_model.predict(X_train)\n",
        "accuracy_train = accuracy_score(y_train, y_train_pred_svm)\n",
        "print(f\"Akurasi pada data latih menggunakan SVM: {accuracy_train:.4f}\")"
      ]
    },
    {
      "cell_type": "markdown",
      "metadata": {
        "id": "-VQA8bWdNOUL"
      },
      "source": [
        "### 3. Laporan Performa SVM Pada Data Latih"
      ]
    },
    {
      "cell_type": "code",
      "execution_count": 30,
      "metadata": {
        "colab": {
          "base_uri": "https://localhost:8080/"
        },
        "id": "3gyQJzfOvBGd",
        "outputId": "23912ee2-d46f-416f-c65f-f3dfcd655949"
      },
      "outputs": [
        {
          "name": "stdout",
          "output_type": "stream",
          "text": [
            "Classification Report untuk Data Latih menggunakan SVM:\n",
            "              precision    recall  f1-score   support\n",
            "\n",
            "           0       0.87      1.00      0.93      4619\n",
            "           1       0.92      1.00      0.96     12664\n",
            "           2       1.00      0.94      0.97     29729\n",
            "\n",
            "    accuracy                           0.96     47012\n",
            "   macro avg       0.93      0.98      0.95     47012\n",
            "weighted avg       0.96      0.96      0.96     47012\n",
            "\n"
          ]
        }
      ],
      "source": [
        "report_train = classification_report(y_train, y_train_pred_svm)\n",
        "print(\"Classification Report untuk Data Latih menggunakan SVM:\")\n",
        "print(report_train)"
      ]
    },
    {
      "cell_type": "markdown",
      "metadata": {
        "id": "ergzChZFEL-O"
      },
      "source": [
        "## **b. Evaluasi Model Klasifikasi**"
      ]
    },
    {
      "cell_type": "markdown",
      "metadata": {
        "id": "XqU53w4989SL"
      },
      "source": [
        "### 1. Menerapkan Logistic Regression Untuk Data Uji"
      ]
    },
    {
      "cell_type": "code",
      "execution_count": 31,
      "metadata": {
        "colab": {
          "base_uri": "https://localhost:8080/"
        },
        "id": "tMq4QAssNLip",
        "outputId": "55329fca-f78f-4308-9127-aec77112a7b5"
      },
      "outputs": [
        {
          "name": "stdout",
          "output_type": "stream",
          "text": [
            "Akurasi pada data uji menggunakan Logistic Regresi: 0.9649%\n"
          ]
        }
      ],
      "source": [
        "y_test_pred_logreg = logreg_model.predict(X_test)\n",
        "accuracy_test = accuracy_score(y_test, y_test_pred_logreg)\n",
        "print(f\"Akurasi pada data uji menggunakan Logistic Regresi: {accuracy_test:.4f}%\")"
      ]
    },
    {
      "cell_type": "markdown",
      "metadata": {
        "id": "rGr-I2pBM1Wi"
      },
      "source": [
        "### 2. Laporan Performa Logistic Regression Pada Data uji"
      ]
    },
    {
      "cell_type": "code",
      "execution_count": 32,
      "metadata": {
        "colab": {
          "base_uri": "https://localhost:8080/"
        },
        "id": "IMX5zYSq8_SF",
        "outputId": "1f204f38-6ac8-4b19-b53f-cd731b861212"
      },
      "outputs": [
        {
          "name": "stdout",
          "output_type": "stream",
          "text": [
            "Classification Report untuk Data Uji menggunakan Logistic Regresi:\n",
            "              precision    recall  f1-score   support\n",
            "\n",
            "           0       0.91      1.00      0.95      1219\n",
            "           1       0.92      1.00      0.96      3195\n",
            "           2       1.00      0.94      0.97      7339\n",
            "\n",
            "    accuracy                           0.96     11753\n",
            "   macro avg       0.94      0.98      0.96     11753\n",
            "weighted avg       0.97      0.96      0.97     11753\n",
            "\n"
          ]
        }
      ],
      "source": [
        "report_test = classification_report(y_test, y_test_pred_logreg)\n",
        "print(\"Classification Report untuk Data Uji menggunakan Logistic Regresi:\")\n",
        "print(report_test)"
      ]
    },
    {
      "cell_type": "code",
      "execution_count": 33,
      "metadata": {
        "colab": {
          "base_uri": "https://localhost:8080/",
          "height": 449
        },
        "id": "IPSZRyOR9FJk",
        "outputId": "dd59e140-2835-484a-d744-af6eae769d9a"
      },
      "outputs": [
        {
          "data": {
            "image/png": "[encoded data removed]",
            "text/plain": [
              "<Figure size 640x480 with 2 Axes>"
            ]
          },
          "metadata": {},
          "output_type": "display_data"
        }
      ],
      "source": [
        "conf_matrix = confusion_matrix(y_test, y_test_pred_logreg)\n",
        "disp = ConfusionMatrixDisplay(confusion_matrix=conf_matrix, display_labels=logreg_model.classes_)\n",
        "disp.plot(cmap='Blues')\n",
        "plt.show()"
      ]
    },
    {
      "cell_type": "markdown",
      "metadata": {
        "id": "EyE_vwe08-7b"
      },
      "source": [
        "### 3. Menerapkan SVM Untuk Data Uji"
      ]
    },
    {
      "cell_type": "code",
      "execution_count": 34,
      "metadata": {
        "colab": {
          "base_uri": "https://localhost:8080/"
        },
        "id": "8uTLVWh89HVJ",
        "outputId": "be793a29-de21-4f9a-fcc8-54e8d0789a94"
      },
      "outputs": [
        {
          "name": "stdout",
          "output_type": "stream",
          "text": [
            "Akurasi pada data uji menggunakan SVM: 0.9589\n"
          ]
        }
      ],
      "source": [
        "y_test_pred_svm = svm_model.predict(X_test)\n",
        "accuracy_test_svm = accuracy_score(y_test, y_test_pred_svm)\n",
        "print(f\"Akurasi pada data uji menggunakan SVM: {accuracy_test_svm:.4f}\")"
      ]
    },
    {
      "cell_type": "markdown",
      "metadata": {
        "id": "fSam_j6pNedv"
      },
      "source": [
        "### 4. Laporan Performa SVM Pada Data uji"
      ]
    },
    {
      "cell_type": "code",
      "execution_count": 35,
      "metadata": {
        "colab": {
          "base_uri": "https://localhost:8080/"
        },
        "id": "R8thJo109HKd",
        "outputId": "60a1f75b-90f6-4dc7-a7d5-e591b3ae4343"
      },
      "outputs": [
        {
          "name": "stdout",
          "output_type": "stream",
          "text": [
            "Classification Report untuk Data Uji menggunakan SVM:\n",
            "              precision    recall  f1-score   support\n",
            "\n",
            "           0       0.86      1.00      0.93      1219\n",
            "           1       0.92      1.00      0.96      3195\n",
            "           2       1.00      0.93      0.97      7339\n",
            "\n",
            "    accuracy                           0.96     11753\n",
            "   macro avg       0.93      0.98      0.95     11753\n",
            "weighted avg       0.96      0.96      0.96     11753\n",
            "\n"
          ]
        }
      ],
      "source": [
        "report_test_svm = classification_report(y_test, y_test_pred_svm)\n",
        "print(\"Classification Report untuk Data Uji menggunakan SVM:\")\n",
        "print(report_test_svm)"
      ]
    },
    {
      "cell_type": "code",
      "execution_count": 36,
      "metadata": {
        "colab": {
          "base_uri": "https://localhost:8080/",
          "height": 449
        },
        "id": "cNFkJrOF9G_A",
        "outputId": "1d8966ec-c36b-4625-9492-90453eae2710"
      },
      "outputs": [
        {
          "data": {
            "image/png": "[encoded data removed]",
            "text/plain": [
              "<Figure size 640x480 with 2 Axes>"
            ]
          },
          "metadata": {},
          "output_type": "display_data"
        }
      ],
      "source": [
        "conf_matrix_svm = confusion_matrix(y_test, y_test_pred_svm)\n",
        "disp_svm = ConfusionMatrixDisplay(confusion_matrix=conf_matrix_svm, display_labels=svm_model.classes_)\n",
        "disp_svm.plot(cmap='Greens')\n",
        "plt.show()"
      ]
    },
    {
      "cell_type": "markdown",
      "metadata": {
        "id": "ph9yIYDXEPuB"
      },
      "source": [
        "## **c. Tuning Model Klasifikasi (Optional)**"
      ]
    },
    {
      "cell_type": "markdown",
      "metadata": {
        "id": "-Bikx3LINv5e"
      },
      "source": [
        "### 1. Menerapkan RandomizedSearchCV Pada Logistic Regression untuk mencari kombinasi hyperparameter terbaik"
      ]
    },
    {
      "cell_type": "code",
      "execution_count": 37,
      "metadata": {
        "colab": {
          "background_save": true
        },
        "id": "n4bBTRFsOFpX",
        "outputId": "dd0a4021-3bc5-491c-da65-88606af6647f"
      },
      "outputs": [
        {
          "name": "stdout",
          "output_type": "stream",
          "text": [
            "Best Parameters: {'tol': 0.0001, 'solver': 'liblinear', 'penalty': 'l1', 'max_iter': 500, 'C': 1}\n"
          ]
        }
      ],
      "source": [
        "param_dist_logreg = {\n",
        "    'C': [0.1, 0.5, 1],\n",
        "    'penalty': ['l1', 'l2'],\n",
        "    'solver': ['liblinear'],\n",
        "    'max_iter': [500],\n",
        "    'tol': [1e-4]\n",
        "}\n",
        "\n",
        "logreg_model_tuned = LogisticRegression(class_weight='balanced', random_state=42)\n",
        "random_search_logreg = RandomizedSearchCV(logreg_model_tuned, param_distributions=param_dist_logreg,\n",
        "                                          n_iter=5, cv=3, scoring='accuracy', random_state=42,\n",
        "                                          n_jobs=-1)\n",
        "\n",
        "random_search_logreg.fit(X_train, y_train)\n",
        "print(\"Best Parameters:\", random_search_logreg.best_params_)"
      ]
    },
    {
      "cell_type": "code",
      "execution_count": 38,
      "metadata": {
        "colab": {
          "background_save": true
        },
        "id": "n6yx5hNWOFa5",
        "outputId": "fe2e275e-a809-4a7d-a502-5b0797b04aec"
      },
      "outputs": [
        {
          "name": "stdout",
          "output_type": "stream",
          "text": [
            "\n",
            "Hasil Logistic Regression Tuned dengan RandomizedSearchCV\n",
            "Logistic Regression Tuned - Akurasi: 0.9715\n",
            "Logistic Regression Tuned - F1-Score: 0.9716\n",
            "Logistic Regression Tuned - Precision: 0.9721\n",
            "Logistic Regression Tuned - Recall: 0.9715\n"
          ]
        }
      ],
      "source": [
        "best_logreg_tuned = random_search_logreg.best_estimator_\n",
        "y_train_pred_logreg_tuned = best_logreg_tuned.predict(X_train)\n",
        "y_test_pred_logreg_tuned = best_logreg_tuned.predict(X_test)\n",
        "\n",
        "logreg_accuracy_tuned = accuracy_score(y_test, y_test_pred_logreg_tuned)\n",
        "logreg_f1_tuned = f1_score(y_test, y_test_pred_logreg_tuned, average='weighted')\n",
        "logreg_precision_tuned = precision_score(y_test, y_test_pred_logreg_tuned, average='weighted')\n",
        "logreg_recall_tuned = recall_score(y_test, y_test_pred_logreg_tuned, average='weighted')\n",
        "\n",
        "print(f\"\\nHasil Logistic Regression Tuned dengan RandomizedSearchCV\")\n",
        "print(f'Logistic Regression Tuned - Akurasi: {logreg_accuracy_tuned:.4f}')\n",
        "print(f'Logistic Regression Tuned - F1-Score: {logreg_f1_tuned:.4f}')\n",
        "print(f'Logistic Regression Tuned - Precision: {logreg_precision_tuned:.4f}')\n",
        "print(f'Logistic Regression Tuned - Recall: {logreg_recall_tuned:.4f}')"
      ]
    },
    {
      "cell_type": "markdown",
      "metadata": {
        "id": "uXqe5xVdOV3B"
      },
      "source": [
        "### 2. Menerapkan RandomizedSearchCV Pada SVM untuk mencari kombinasi hyperparameter terbaik"
      ]
    },
    {
      "cell_type": "code",
      "execution_count": 39,
      "metadata": {
        "colab": {
          "background_save": true
        },
        "id": "winbFzb8NL95",
        "outputId": "32bc8f64-e46e-418e-8005-f6e6d8c31093"
      },
      "outputs": [
        {
          "name": "stdout",
          "output_type": "stream",
          "text": [
            "Best Parameters: {'kernel': 'rbf', 'gamma': 'scale', 'class_weight': None, 'C': 10}\n"
          ]
        }
      ],
      "source": [
        "param_dist = {\n",
        "    'C': [0.1, 1, 10],\n",
        "    'gamma': ['scale', 0.01, 0.1],\n",
        "    'kernel': ['rbf'],\n",
        "    'class_weight': ['balanced', None]\n",
        "}\n",
        "\n",
        "svm_model_tuned = SVC(random_state=42)\n",
        "random_search_svm = RandomizedSearchCV(svm_model_tuned, param_distributions=param_dist,\n",
        "                                       n_iter=10, scoring='accuracy', cv=2,\n",
        "                                       n_jobs=-1, random_state=42)\n",
        "\n",
        "random_search_svm.fit(X_train, y_train)\n",
        "print(\"Best Parameters:\", random_search_svm.best_params_)"
      ]
    },
    {
      "cell_type": "code",
      "execution_count": 40,
      "metadata": {
        "colab": {
          "background_save": true
        },
        "id": "9t5U8YaWMh9O",
        "outputId": "8c69f4c0-ce45-4e23-a406-10b51fb81a1d"
      },
      "outputs": [
        {
          "name": "stdout",
          "output_type": "stream",
          "text": [
            "\n",
            "Hasil SVM Tuned dengan RandomizedSearchCV\n",
            "SVM Tuned - Akurasi: 0.9757\n",
            "SVM Tuned - F1-Score: 0.9756\n",
            "SVM Tuned - Precision: 0.9757\n",
            "SVM Tuned - Recall: 0.9757\n"
          ]
        }
      ],
      "source": [
        "best_svm_tuned = random_search_svm.best_estimator_\n",
        "y_train_pred_svm_tuned = best_svm_tuned.predict(X_train)\n",
        "y_test_pred_svm_tuned = best_svm_tuned.predict(X_test)\n",
        "\n",
        "svm_accuracy_tuned = accuracy_score(y_test, y_test_pred_svm_tuned)\n",
        "svm_f1_tuned = f1_score(y_test, y_test_pred_svm_tuned, average='weighted')\n",
        "svm_precision_tuned = precision_score(y_test, y_test_pred_svm_tuned, average='weighted')\n",
        "svm_recall_tuned = recall_score(y_test, y_test_pred_svm_tuned, average='weighted')\n",
        "\n",
        "print(f\"\\nHasil SVM Tuned dengan RandomizedSearchCV\")\n",
        "print(f'SVM Tuned - Akurasi: {svm_accuracy_tuned:.4f}')\n",
        "print(f'SVM Tuned - F1-Score: {svm_f1_tuned:.4f}')\n",
        "print(f'SVM Tuned - Precision: {svm_precision_tuned:.4f}')\n",
        "print(f'SVM Tuned - Recall: {svm_recall_tuned:.4f}')"
      ]
    },
    {
      "cell_type": "markdown",
      "metadata": {
        "id": "hE7pqlEPEYzI"
      },
      "source": [
        "## **d. Evaluasi Model Klasifikasi setelah Tuning (Optional)**"
      ]
    },
    {
      "cell_type": "markdown",
      "metadata": {
        "id": "feaPESoeN0zz"
      },
      "source": [
        "### 1. Perbandingan Performa Algoritma Logistic Regression"
      ]
    },
    {
      "cell_type": "code",
      "execution_count": 41,
      "metadata": {
        "colab": {
          "background_save": true
        },
        "id": "W_HHQSeeRKqW",
        "outputId": "80266318-416e-482a-cb89-6fadca46e75f"
      },
      "outputs": [
        {
          "data": {
            "image/png": "[encoded data removed]",
            "text/plain": [
              "<Figure size 1200x400 with 6 Axes>"
            ]
          },
          "metadata": {},
          "output_type": "display_data"
        }
      ],
      "source": [
        "fig, axes = plt.subplots(1, 3, figsize=(12, 4))\n",
        "\n",
        "conf_matrix_logreg_train = confusion_matrix(y_train, y_train_pred_logreg)\n",
        "sns.heatmap(conf_matrix_logreg_train, annot=True, fmt='d', cmap='Reds', xticklabels=set(y_train), yticklabels=set(y_train), ax=axes[0])\n",
        "axes[0].set_title(\"Logistic Regression Train\")\n",
        "axes[0].set_xlabel(\"Predicted\")\n",
        "axes[0].set_ylabel(\"Actual\")\n",
        "\n",
        "conf_matrix_logreg = confusion_matrix(y_test, y_test_pred_logreg)\n",
        "sns.heatmap(conf_matrix_logreg, annot=True, fmt='d', cmap='Blues', xticklabels=set(y_test), yticklabels=set(y_test), ax=axes[1])\n",
        "axes[1].set_title(\"Logistic Regression Test\")\n",
        "axes[1].set_xlabel(\"Predicted\")\n",
        "axes[1].set_ylabel(\"Actual\")\n",
        "\n",
        "conf_matrix_logreg_tuned = confusion_matrix(y_test, y_test_pred_logreg_tuned)\n",
        "sns.heatmap(conf_matrix_logreg_tuned, annot=True, fmt='d', cmap='Greens', xticklabels=set(y_test), yticklabels=set(y_test), ax=axes[2])\n",
        "axes[2].set_title(\"Logistic Regression + Hyperparameter\")\n",
        "axes[2].set_xlabel(\"Predicted\")\n",
        "axes[2].set_ylabel(\"Actual\")\n",
        "\n",
        "plt.tight_layout()\n",
        "plt.show()"
      ]
    },
    {
      "cell_type": "code",
      "execution_count": 42,
      "metadata": {
        "colab": {
          "background_save": true
        },
        "id": "zaJeg63Wa0cN",
        "outputId": "38d8103c-2a50-4127-d4e1-636d957a9997"
      },
      "outputs": [
        {
          "name": "stdout",
          "output_type": "stream",
          "text": [
            "\n",
            "Data Latih Logistic Regression:\n",
            "Akurasi: 0.9653\n",
            "Precision: 0.9682\n",
            "Recall: 0.9653\n",
            "F1-Score: 0.9656\n",
            "\n",
            "Data Prediksi Logistic Regression:\n",
            "Akurasi: 0.9649\n",
            "Precision: 0.9679\n",
            "Recall: 0.9649\n",
            "F1-Score: 0.9652\n",
            "\n",
            "Data Prediksi Logistic Regression Tuned:\n",
            "Akurasi: 0.9715\n",
            "Precision: 0.9721\n",
            "Recall: 0.9715\n",
            "F1-Score: 0.9716\n"
          ]
        }
      ],
      "source": [
        "for y_true, y_pred, label in [(y_train, y_train_pred_logreg,  'Latih Logistic Regression'), (y_test, y_test_pred_logreg, 'Prediksi Logistic Regression'), (y_test, y_test_pred_logreg_tuned, 'Prediksi Logistic Regression Tuned')]:\n",
        "    print(f\"\\nData {label}:\")\n",
        "    print(f\"Akurasi: {accuracy_score(y_true, y_pred):.4f}\")\n",
        "    print(f\"Precision: {precision_score(y_true, y_pred, average='weighted'):.4f}\")\n",
        "    print(f\"Recall: {recall_score(y_true, y_pred, average='weighted'):.4f}\")\n",
        "    print(f\"F1-Score: {f1_score(y_true, y_pred, average='weighted'):.4f}\")"
      ]
    },
    {
      "cell_type": "markdown",
      "metadata": {
        "id": "UJ37g7tDOwC0"
      },
      "source": [
        "### 2. Perbandingan Performa Algoritma Support Vector Machine"
      ]
    },
    {
      "cell_type": "code",
      "execution_count": 43,
      "metadata": {
        "colab": {
          "background_save": true
        },
        "id": "HTXZRvEeNMb1",
        "outputId": "b69c554f-32e2-455f-97ed-66841cfe3ae9"
      },
      "outputs": [
        {
          "data": {
            "image/png": "[encoded data removed]",
            "text/plain": [
              "<Figure size 1200x400 with 6 Axes>"
            ]
          },
          "metadata": {},
          "output_type": "display_data"
        }
      ],
      "source": [
        "fig, axes = plt.subplots(1, 3, figsize=(12, 4))\n",
        "\n",
        "conf_matrix_svm_train = confusion_matrix(y_train, y_train_pred_svm)\n",
        "sns.heatmap(conf_matrix_svm_train, annot=True, fmt='d', cmap='Reds', xticklabels=set(y_train), yticklabels=set(y_train), ax=axes[0])\n",
        "axes[0].set_title(\"SVM Train\")\n",
        "axes[0].set_xlabel(\"Predicted\")\n",
        "axes[0].set_ylabel(\"Actual\")\n",
        "\n",
        "conf_matrix_svm = confusion_matrix(y_test, y_test_pred_svm)\n",
        "sns.heatmap(conf_matrix_svm, annot=True, fmt='d', cmap='Blues', xticklabels=set(y_test), yticklabels=set(y_test), ax=axes[1])\n",
        "axes[1].set_title(\"SVM Test\")\n",
        "axes[1].set_xlabel(\"Predicted\")\n",
        "axes[1].set_ylabel(\"Actual\")\n",
        "\n",
        "conf_matrix_svm_tuned = confusion_matrix(y_test, y_test_pred_svm_tuned)\n",
        "sns.heatmap(conf_matrix_svm_tuned, annot=True, fmt='d', cmap='Greens', xticklabels=set(y_test), yticklabels=set(y_test), ax=axes[2])\n",
        "axes[2].set_title(\"SVM + Hyperparameter\")\n",
        "axes[2].set_xlabel(\"Predicted\")\n",
        "axes[2].set_ylabel(\"Actual\")\n",
        "\n",
        "plt.tight_layout()\n",
        "plt.show()"
      ]
    },
    {
      "cell_type": "code",
      "execution_count": 44,
      "metadata": {
        "colab": {
          "background_save": true
        },
        "id": "49x2mDgfOEUV",
        "outputId": "14a50349-f64e-49b3-ff54-90c06705c786"
      },
      "outputs": [
        {
          "name": "stdout",
          "output_type": "stream",
          "text": [
            "\n",
            "Latih SVM:\n",
            "Akurasi: 0.9608\n",
            "Precision: 0.9647\n",
            "Recall: 0.9608\n",
            "F1-Score: 0.9612\n",
            "\n",
            "Prediksi SVM:\n",
            "Akurasi: 0.9589\n",
            "Precision: 0.9632\n",
            "Recall: 0.9589\n",
            "F1-Score: 0.9593\n",
            "\n",
            "Prediksi SVM Tuned:\n",
            "Akurasi: 0.9757\n",
            "Precision: 0.9757\n",
            "Recall: 0.9757\n",
            "F1-Score: 0.9756\n"
          ]
        }
      ],
      "source": [
        "for y_true, y_pred, label in [(y_train, y_train_pred_svm, 'Latih SVM'), (y_test, y_test_pred_svm, 'Prediksi SVM'), (y_test, y_test_pred_svm_tuned, 'Prediksi SVM Tuned')]:\n",
        "    print(f\"\\n{label}:\")\n",
        "    print(f\"Akurasi: {accuracy_score(y_true, y_pred):.4f}\")\n",
        "    print(f\"Precision: {precision_score(y_true, y_pred, average='weighted'):.4f}\")\n",
        "    print(f\"Recall: {recall_score(y_true, y_pred, average='weighted'):.4f}\")\n",
        "    print(f\"F1-Score: {f1_score(y_true, y_pred, average='weighted'):.4f}\")"
      ]
    },
    {
      "cell_type": "markdown",
      "metadata": {
        "id": "ZRsOdm4uEgAW"
      },
      "source": [
        "## **e. Analisis Hasil Evaluasi Model Klasifikasi**"
      ]
    },
    {
      "cell_type": "markdown",
      "metadata": {
        "id": "Hm3BhSi6N4_l"
      },
      "source": [
        "### 1. Perbandingan Hasil antara Logistic Regression dan Support Vector Machine.\n"
      ]
    },
    {
      "cell_type": "markdown",
      "metadata": {
        "id": "H_3BQccrRwd9"
      },
      "source": [
        "**Analisis Logistic Regression**\n",
        "\n",
        "- **Perbandingan Confusion Matrix**\n",
        "  * Training Set:\n",
        "  1. Prediksi produk populer (kelas 1) sangat akurat: 28,106 benar vs 1,157 salah.\n",
        "  2. Produk kurang populer (kelas 2) juga terprediksi dengan baik: 12,648 benar vs 9 salah.\n",
        "  3. Kesalahan sangat minim, menunjukkan model belajar dengan baik.\n",
        "\n",
        "  * Test Set:\n",
        "  1. Produk populer masih dominan benar: 6,932 benar vs 287 salah.\n",
        "  2. Sedikit lebih banyak kesalahan pada produk kurang populer: 3,191 benar, tapi ada 2 salah prediksi ke kelas lain.\n",
        "\n",
        "  * Setelah Hyperparameter Tuning:\n",
        "  1. Kesalahan makin berkurang: produk populer lebih akurat (7,099 benar, 159 salah).\n",
        "  2. Produk kurang populer lebih presisi: 3,111 benar, hanya 79 salah.\n",
        "  \n",
        "  Jadi Hyperparameter membantu mengurangi bias dan meningkatkan keseimbangan prediksi antar kategori produk.\n",
        "\n",
        "- **Evaluasi Model**\n",
        "  * Tanpa Tuning, didapati Akurasi 96.50%, F1-Score 96.53%.\n",
        "  * Setelah Tuning model, Akurasi meningkat ke 97.15%, F1-Score menjadi 97.16%.\n",
        "  * Kesimpulan: Hyperparameter tuning meningkatkan performa dengan sedikit peningkatan akurasi dan keseimbangan antar kelas."
      ]
    },
    {
      "cell_type": "markdown",
      "metadata": {
        "id": "-hXwaFz8RxzG"
      },
      "source": [
        "**Analisis Support Vector**\n",
        "\n",
        "- **Perbandingan Confusion Matrix**\n",
        "  * Training Set:\n",
        "  1. Prediksi produk populer (kelas 1) sangat baik: 27,896 benar, tetapi masih ada 1,162 salah.\n",
        "  2. Produk kurang populer (kelas 2) juga cukup akurat: 12,652 benar, hanya 9 salah.\n",
        "  3. Kesalahan kecil, menunjukkan model belajar dengan baik.\n",
        "\n",
        "  * Test Set:\n",
        "  1. Produk populer tetap dominan benar: 6,858 benar, tetapi ada 291 salah.\n",
        "  2. Produk kurang populer cukup baik: 3,193 benar, hanya 2 salah ke kelas lain.\n",
        "\n",
        "  * Setelah Hyperparameter Tuning:\n",
        "  1. Prediksi produk populer lebih akurat: 7,226 benar, hanya 90 salah.\n",
        "  2. Produk kurang populer lebih stabil: 3,072 benar, tetapi ada 123 salah.\n",
        "  \n",
        "  Jadi Hyperparameter tuning membantu meningkatkan akurasi dan keseimbangan prediksi, terutama dalam mengurangi kesalahan pada produk populer dan mempertahankan ketepatan pada produk kurang populer.\n",
        "  \n",
        "- **Evaluasi Model**\n",
        "  * Tanpa tuning, Akurasi cukup tinggi (±95.89%), tetapi masih ada beberapa kesalahan dalam mengklasifikasikan kelas minoritas.\n",
        "  * Setelah tuning, Akurasi meningkat menjadi 97.57%, dengan Precision dan Recall yang lebih baik. Model lebih optimal dalam membedakan produk populer dan non-populer.\n",
        "  * Kesimpulan: SVM dengan hyperparameter tuning memberikan hasil yang lebih baik dibandingkan sebelum tuning, terutama dalam meningkatkan klasifikasi pada kelas minoritas."
      ]
    },
    {
      "cell_type": "markdown",
      "metadata": {
        "id": "SkHCxLtRPu_X"
      },
      "source": [
        "### 2. Identifikasi kelemahan model\n"
      ]
    },
    {
      "cell_type": "markdown",
      "metadata": {
        "id": "CxaNU1dFQAWz"
      },
      "source": [
        "* Indentifikasi Precision atau Recall rendah untuk kelas tertentu\n",
        "* Apakah model mengalami overfitting atau underfitting?"
      ]
    },
    {
      "cell_type": "markdown",
      "metadata": {
        "id": "ZFEOmtdkP1YV"
      },
      "source": [
        "#### Identifikasi Logictic Regression"
      ]
    },
    {
      "cell_type": "markdown",
      "metadata": {
        "id": "ywvl8DawRGCz"
      },
      "source": [
        "**Kelemahan Model**\n",
        "Akurasi tinggi, tetapi perlu memastikan keseimbangan prediksi antar kelas.\n",
        "\n",
        "**Precision atau Recall Rendah**\n",
        "Tidak ada penurunan signifikan, tetapi tuning meningkatkan semua metrik."
      ]
    },
    {
      "cell_type": "code",
      "execution_count": 45,
      "metadata": {
        "colab": {
          "background_save": true
        },
        "id": "5bNx6hLN968l",
        "outputId": "83de5f8e-c27a-4afa-d79b-3797feec5902"
      },
      "outputs": [
        {
          "data": {
            "image/png": "[encoded data removed]",
            "text/plain": [
              "<Figure size 640x480 with 1 Axes>"
            ]
          },
          "metadata": {},
          "output_type": "display_data"
        }
      ],
      "source": [
        "logreg_model = LogisticRegression(class_weight='balanced', random_state=42)\n",
        "train_sizes, train_scores, test_scores = learning_curve(logreg_model, X, y, cv=5, n_jobs=-1, train_sizes=np.linspace(0.1, 1.0, 10))\n",
        "\n",
        "plt.plot(train_sizes, np.mean(train_scores, axis=1), label='Data Latih', color='blue')\n",
        "plt.plot(train_sizes, np.mean(test_scores, axis=1), label='Data Uji', color='green')\n",
        "\n",
        "plt.title('Learning Curve: Logistic Regression')\n",
        "plt.xlabel('Jumlah Data Latih')\n",
        "plt.ylabel('Akurasi')\n",
        "plt.legend()\n",
        "plt.grid(True)\n",
        "plt.show()"
      ]
    },
    {
      "cell_type": "markdown",
      "metadata": {
        "id": "CdWX7q2nRGpR"
      },
      "source": [
        "Disimpulkan bahwa Model Logistic Regression sudah baik, **tidak overfitting maupun underfitting**, karena akurasi data latih (0.9651) dan uji (0.9650) hampir sama. Setelah tuning, performa meningkat sedikit (0.9715), menunjukkan model lebih optimal dan lebih meningkatkan keseimbangan prediksi."
      ]
    },
    {
      "cell_type": "markdown",
      "metadata": {
        "id": "IZFvh-0RQXX7"
      },
      "source": [
        "#### Identifikasi Support Vector Machine"
      ]
    },
    {
      "cell_type": "markdown",
      "metadata": {
        "id": "Pnbk1QSlRHsP"
      },
      "source": [
        "**Kelemahan Model** Akurasi tinggi, tapi awalnya ada sedikit gap antara data latih dan uji.\n",
        "\n",
        "**Precision atau Recall Rendah**, Tidak ada yang terlalu rendah, precision dan recall cukup seimbang.\n"
      ]
    },
    {
      "cell_type": "code",
      "execution_count": 46,
      "metadata": {
        "colab": {
          "background_save": true
        },
        "id": "0UjVd_wS-CSz",
        "outputId": "09aba35e-a3f5-494b-8b1f-55f8c1c2cb3c"
      },
      "outputs": [
        {
          "data": {
            "image/png": "[encoded data removed]",
            "text/plain": [
              "<Figure size 640x480 with 1 Axes>"
            ]
          },
          "metadata": {},
          "output_type": "display_data"
        }
      ],
      "source": [
        "svm_model = SVC(kernel='linear', random_state=42)\n",
        "train_sizes, train_scores, test_scores = learning_curve(svm_model, X_train, y_train, cv=5)\n",
        "\n",
        "plt.plot(train_sizes, train_scores.mean(axis=1), label='Data Latih', color='blue')\n",
        "plt.plot(train_sizes, test_scores.mean(axis=1), label='Data Uji', color='green')\n",
        "\n",
        "plt.title('Learning Curve - SVM')\n",
        "plt.xlabel('Jumlah Data Latih')\n",
        "plt.ylabel('Skor Akurasi')\n",
        "plt.legend(loc='best')\n",
        "plt.grid(True)\n",
        "plt.tight_layout()\n",
        "plt.show()"
      ]
    },
    {
      "cell_type": "markdown",
      "metadata": {
        "id": "KMcfjYSnhSJg"
      },
      "source": [
        "Awalnya ada overfitting (gap antara data latih dan uji), tapi setelah tuning, model lebih seimbang, performa meningkat (97.57% akurasi), model lebih optimal dan generalisasi lebih baik. Dan tidak terjadi overfitting dan underfitting lagi."
      ]
    },
    {
      "cell_type": "markdown",
      "metadata": {
        "id": "UdEDLocjQNIc"
      },
      "source": [
        "### 3. Rekomendasi Lanjutan"
      ]
    },
    {
      "cell_type": "markdown",
      "metadata": {
        "id": "hgIPyC3eQi9p"
      },
      "source": [
        "#### 1. Visualisasi Prediksi 10 Top Produk oleh Logistic Regression"
      ]
    },
    {
      "cell_type": "code",
      "execution_count": 47,
      "metadata": {
        "colab": {
          "background_save": true
        },
        "id": "eOaqCEroQ2k4"
      },
      "outputs": [],
      "source": [
        "logreg_model.fit(X, y)\n",
        "product_df['popular'] = logreg_model.predict(X)\n",
        "category_popularity_logreg = product_df.groupby(['product_category_name_english', 'popular']).size().unstack(fill_value=0)\n",
        "top_10_categories_logreg = category_popularity_logreg['2'].sort_values(ascending=False).head(10)"
      ]
    },
    {
      "cell_type": "code",
      "execution_count": 48,
      "metadata": {
        "colab": {
          "background_save": true
        },
        "id": "BQgLEtYsjB0z",
        "outputId": "fabdcca2-8883-472c-d728-b3b900caf3ae"
      },
      "outputs": [
        {
          "data": {
            "image/png": "[encoded data removed]",
            "text/plain": [
              "<Figure size 1000x600 with 1 Axes>"
            ]
          },
          "metadata": {},
          "output_type": "display_data"
        }
      ],
      "source": [
        "plt.figure(figsize=(10, 6))\n",
        "sns.barplot(x=top_10_categories_logreg.index, y=top_10_categories_logreg.values)\n",
        "\n",
        "for index, value in enumerate(top_10_categories_logreg.values):\n",
        "    plt.text(index, value + 10, str(value), ha='center', va='bottom', fontsize=12)\n",
        "\n",
        "plt.title('Prediksi 10 Kategori Produk Populer dengan Logistic Regression Berdasarkan Karakteristik')\n",
        "plt.xlabel('Product Category Name')\n",
        "plt.ylabel('Jumlah Produk yang Diperkirakan Akan Populer')\n",
        "plt.xticks(rotation=45, ha='right')\n",
        "plt.tight_layout()\n",
        "plt.show()"
      ]
    },
    {
      "cell_type": "markdown",
      "metadata": {
        "id": "9Gu25EFvQxKF"
      },
      "source": [
        "#### 2. Visualisasi Prediksi 10 Top Produk oleh Support Vector Machine"
      ]
    },
    {
      "cell_type": "code",
      "execution_count": 49,
      "metadata": {
        "colab": {
          "background_save": true
        },
        "id": "A_ICyy0gQ_Qo"
      },
      "outputs": [],
      "source": [
        "svm_model.fit(X, y)\n",
        "product_df['popular'] = svm_model.predict(X)\n",
        "category_popularity_svm = product_df.groupby(['product_category_name_english', 'popular']).size().unstack(fill_value=0)\n",
        "top_10_categories_svm = category_popularity_svm['2'].sort_values(ascending=False).head(10)"
      ]
    },
    {
      "cell_type": "code",
      "execution_count": 50,
      "metadata": {
        "colab": {
          "background_save": true
        },
        "id": "iH4ed_fzjPbp",
        "outputId": "73096042-5016-4038-9666-6b0033e47d00"
      },
      "outputs": [
        {
          "data": {
            "image/png": "[encoded data removed]",
            "text/plain": [
              "<Figure size 1000x600 with 1 Axes>"
            ]
          },
          "metadata": {},
          "output_type": "display_data"
        }
      ],
      "source": [
        "plt.figure(figsize=(10, 6))\n",
        "sns.barplot(x=top_10_categories_svm.index, y=top_10_categories_svm.values)\n",
        "\n",
        "for index, value in enumerate(top_10_categories_svm.values):\n",
        "    plt.text(index, value + 10, str(value), ha='center', va='bottom', fontsize=12)\n",
        "\n",
        "plt.title('Prediksi 10 Kategori Produk Populer dengan SVM Berdasarkan Karakteristik', fontsize=16)\n",
        "plt.xlabel('Product Category Name', fontsize=12)\n",
        "plt.ylabel('Jumlah Produk yang Diperkirakan Akan Populer', fontsize=12)\n",
        "plt.xticks(rotation=45, ha='right')\n",
        "plt.tight_layout()\n",
        "plt.show()"
      ]
    },
    {
      "cell_type": "markdown",
      "metadata": {
        "id": "dRzMNJu2QRq2"
      },
      "source": [
        "#### 3. Rekomendasi Kedepannya"
      ]
    },
    {
      "cell_type": "markdown",
      "metadata": {
        "id": "NgsIVoAYRAdO"
      },
      "source": [
        "* Perluas dataset agar model bisa belajar lebih banyak pola dan meningkatkan generalisasi.\n",
        "* Coba teknik tuning lebih lanjut seperti Grid Search atau Bayesian Optimization untuk hasil lebih optimal.\n",
        "* Uji model lain seperti Random Forest atau XGBoost untuk membandingkan performa dengan SVM dan Logistic Regression."
      ]
    }
  ],
  "metadata": {
    "colab": {
      "provenance": []
    },
    "kernelspec": {
      "display_name": "Python 3",
      "name": "python3"
    },
    "language_info": {
      "codemirror_mode": {
        "name": "ipython",
        "version": 3
      },
      "file_extension": ".py",
      "mimetype": "text/x-python",
      "name": "python",
      "nbconvert_exporter": "python",
      "pygments_lexer": "ipython3",
      "version": "3.12.4"
    }
  },
  "nbformat": 4,
  "nbformat_minor": 0
}
